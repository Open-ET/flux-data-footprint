{
 "cells": [
  {
   "cell_type": "code",
   "execution_count": 1,
   "metadata": {
    "ExecuteTime": {
     "end_time": "2024-04-12T12:53:07.417910Z",
     "start_time": "2024-04-12T12:52:41.847894Z"
    }
   },
   "outputs": [],
   "source": [
    "\"\"\"\n",
    "This script was developed to parallel process preformatted time series of input data needed for\n",
    "the Kljun et. al 2d flux footprint prediction code and ultimately create daily-ETo-weighted\n",
    "footprint georeferenced footprint rasters. \n",
    "\n",
    "Checks are performed on the input data to handle data quality issues. The weighting method \n",
    "uses normalized hourly proportions of ASCE ETo computed from NLDAS v2 data for the closest cell.\n",
    "NLDAS data is automatically downloaded using OpenDAP given Earthdata login info. Only days with \n",
    "5 or more hours of data (only from hours between 6:00AM to 8:00 PM) must exist in a day. \n",
    "Checks are performed to ensure final weighting procedure was successful at different steps of \n",
    "the process. \n",
    "\n",
    "This script is not intended to be used by others but to document a workflow that was employed for\n",
    "scientific purposes.\n",
    "\"\"\"\n",
    "from pathlib import Path\n",
    "import numpy as np\n",
    "import pandas as pd\n",
    "import rasterio\n",
    "import refet\n",
    "import pyproj as proj\n",
    "import xarray\n",
    "import requests\n",
    "import pynldas2 as nldas\n",
    "import multiprocessing as mp\n",
    "__author__='John Volk'"
   ]
  },
  {
   "cell_type": "code",
   "outputs": [],
   "source": [
    "import sys\n",
    "sys.path.append(\"../../scripts/\") \n",
    "import calc_footprint_FFP_climatology as ffp\n",
    "import footprint_funcs as ff"
   ],
   "metadata": {
    "collapsed": false,
    "ExecuteTime": {
     "end_time": "2024-04-12T12:53:12.783254Z",
     "start_time": "2024-04-12T12:53:07.418917Z"
    }
   },
   "execution_count": 2
  },
  {
   "cell_type": "code",
   "outputs": [
    {
     "data": {
      "text/plain": "32612"
     },
     "execution_count": 3,
     "metadata": {},
     "output_type": "execute_result"
    }
   ],
   "source": [
    "latitude = 41.1\n",
    "longitude = -111.1\n",
    "#ff.get_zones(latitude,longitude)\n",
    "ff.find_epsg(latitude,longitude)"
   ],
   "metadata": {
    "collapsed": false,
    "ExecuteTime": {
     "end_time": "2024-04-11T04:00:30.191463Z",
     "start_time": "2024-04-11T04:00:30.179349Z"
    }
   },
   "execution_count": 3
  },
  {
   "cell_type": "code",
   "outputs": [],
   "source": [],
   "metadata": {
    "collapsed": false,
    "ExecuteTime": {
     "end_time": "2024-04-11T04:00:34.093674Z",
     "start_time": "2024-04-11T04:00:34.090016Z"
    }
   },
   "execution_count": 3
  },
  {
   "cell_type": "code",
   "execution_count": 4,
   "metadata": {
    "ExecuteTime": {
     "end_time": "2024-04-11T04:00:36.856894Z",
     "start_time": "2024-04-11T04:00:35.455705Z"
    }
   },
   "outputs": [
    {
     "ename": "FileNotFoundError",
     "evalue": "[Errno 2] No such file or directory: 'path\\\\to\\\\site_metadata'",
     "output_type": "error",
     "traceback": [
      "\u001B[1;31m---------------------------------------------------------------------------\u001B[0m",
      "\u001B[1;31mFileNotFoundError\u001B[0m                         Traceback (most recent call last)",
      "Cell \u001B[1;32mIn[4], line 3\u001B[0m\n\u001B[0;32m      1\u001B[0m \u001B[38;5;66;03m# read metadata that has each sites' elevation used in ETr/ETo calcs\u001B[39;00m\n\u001B[0;32m      2\u001B[0m AMF_meta_path \u001B[38;5;241m=\u001B[39m Path(\u001B[38;5;124m'\u001B[39m\u001B[38;5;124mpath/to/site_metadata\u001B[39m\u001B[38;5;124m'\u001B[39m)\n\u001B[1;32m----> 3\u001B[0m AMF_meta \u001B[38;5;241m=\u001B[39m \u001B[43mpd\u001B[49m\u001B[38;5;241;43m.\u001B[39;49m\u001B[43mread_csv\u001B[49m\u001B[43m(\u001B[49m\u001B[43mAMF_meta_path\u001B[49m\u001B[43m,\u001B[49m\u001B[43m \u001B[49m\u001B[43mindex_col\u001B[49m\u001B[38;5;241;43m=\u001B[39;49m\u001B[38;5;124;43m'\u001B[39;49m\u001B[38;5;124;43mSITE_ID\u001B[39;49m\u001B[38;5;124;43m'\u001B[39;49m\u001B[43m)\u001B[49m\n",
      "File \u001B[1;32m~\\Anaconda3\\envs\\pygis311v3\\Lib\\site-packages\\pandas\\io\\parsers\\readers.py:948\u001B[0m, in \u001B[0;36mread_csv\u001B[1;34m(filepath_or_buffer, sep, delimiter, header, names, index_col, usecols, dtype, engine, converters, true_values, false_values, skipinitialspace, skiprows, skipfooter, nrows, na_values, keep_default_na, na_filter, verbose, skip_blank_lines, parse_dates, infer_datetime_format, keep_date_col, date_parser, date_format, dayfirst, cache_dates, iterator, chunksize, compression, thousands, decimal, lineterminator, quotechar, quoting, doublequote, escapechar, comment, encoding, encoding_errors, dialect, on_bad_lines, delim_whitespace, low_memory, memory_map, float_precision, storage_options, dtype_backend)\u001B[0m\n\u001B[0;32m    935\u001B[0m kwds_defaults \u001B[38;5;241m=\u001B[39m _refine_defaults_read(\n\u001B[0;32m    936\u001B[0m     dialect,\n\u001B[0;32m    937\u001B[0m     delimiter,\n\u001B[1;32m   (...)\u001B[0m\n\u001B[0;32m    944\u001B[0m     dtype_backend\u001B[38;5;241m=\u001B[39mdtype_backend,\n\u001B[0;32m    945\u001B[0m )\n\u001B[0;32m    946\u001B[0m kwds\u001B[38;5;241m.\u001B[39mupdate(kwds_defaults)\n\u001B[1;32m--> 948\u001B[0m \u001B[38;5;28;01mreturn\u001B[39;00m \u001B[43m_read\u001B[49m\u001B[43m(\u001B[49m\u001B[43mfilepath_or_buffer\u001B[49m\u001B[43m,\u001B[49m\u001B[43m \u001B[49m\u001B[43mkwds\u001B[49m\u001B[43m)\u001B[49m\n",
      "File \u001B[1;32m~\\Anaconda3\\envs\\pygis311v3\\Lib\\site-packages\\pandas\\io\\parsers\\readers.py:611\u001B[0m, in \u001B[0;36m_read\u001B[1;34m(filepath_or_buffer, kwds)\u001B[0m\n\u001B[0;32m    608\u001B[0m _validate_names(kwds\u001B[38;5;241m.\u001B[39mget(\u001B[38;5;124m\"\u001B[39m\u001B[38;5;124mnames\u001B[39m\u001B[38;5;124m\"\u001B[39m, \u001B[38;5;28;01mNone\u001B[39;00m))\n\u001B[0;32m    610\u001B[0m \u001B[38;5;66;03m# Create the parser.\u001B[39;00m\n\u001B[1;32m--> 611\u001B[0m parser \u001B[38;5;241m=\u001B[39m \u001B[43mTextFileReader\u001B[49m\u001B[43m(\u001B[49m\u001B[43mfilepath_or_buffer\u001B[49m\u001B[43m,\u001B[49m\u001B[43m \u001B[49m\u001B[38;5;241;43m*\u001B[39;49m\u001B[38;5;241;43m*\u001B[39;49m\u001B[43mkwds\u001B[49m\u001B[43m)\u001B[49m\n\u001B[0;32m    613\u001B[0m \u001B[38;5;28;01mif\u001B[39;00m chunksize \u001B[38;5;129;01mor\u001B[39;00m iterator:\n\u001B[0;32m    614\u001B[0m     \u001B[38;5;28;01mreturn\u001B[39;00m parser\n",
      "File \u001B[1;32m~\\Anaconda3\\envs\\pygis311v3\\Lib\\site-packages\\pandas\\io\\parsers\\readers.py:1448\u001B[0m, in \u001B[0;36mTextFileReader.__init__\u001B[1;34m(self, f, engine, **kwds)\u001B[0m\n\u001B[0;32m   1445\u001B[0m     \u001B[38;5;28mself\u001B[39m\u001B[38;5;241m.\u001B[39moptions[\u001B[38;5;124m\"\u001B[39m\u001B[38;5;124mhas_index_names\u001B[39m\u001B[38;5;124m\"\u001B[39m] \u001B[38;5;241m=\u001B[39m kwds[\u001B[38;5;124m\"\u001B[39m\u001B[38;5;124mhas_index_names\u001B[39m\u001B[38;5;124m\"\u001B[39m]\n\u001B[0;32m   1447\u001B[0m \u001B[38;5;28mself\u001B[39m\u001B[38;5;241m.\u001B[39mhandles: IOHandles \u001B[38;5;241m|\u001B[39m \u001B[38;5;28;01mNone\u001B[39;00m \u001B[38;5;241m=\u001B[39m \u001B[38;5;28;01mNone\u001B[39;00m\n\u001B[1;32m-> 1448\u001B[0m \u001B[38;5;28mself\u001B[39m\u001B[38;5;241m.\u001B[39m_engine \u001B[38;5;241m=\u001B[39m \u001B[38;5;28;43mself\u001B[39;49m\u001B[38;5;241;43m.\u001B[39;49m\u001B[43m_make_engine\u001B[49m\u001B[43m(\u001B[49m\u001B[43mf\u001B[49m\u001B[43m,\u001B[49m\u001B[43m \u001B[49m\u001B[38;5;28;43mself\u001B[39;49m\u001B[38;5;241;43m.\u001B[39;49m\u001B[43mengine\u001B[49m\u001B[43m)\u001B[49m\n",
      "File \u001B[1;32m~\\Anaconda3\\envs\\pygis311v3\\Lib\\site-packages\\pandas\\io\\parsers\\readers.py:1705\u001B[0m, in \u001B[0;36mTextFileReader._make_engine\u001B[1;34m(self, f, engine)\u001B[0m\n\u001B[0;32m   1703\u001B[0m     \u001B[38;5;28;01mif\u001B[39;00m \u001B[38;5;124m\"\u001B[39m\u001B[38;5;124mb\u001B[39m\u001B[38;5;124m\"\u001B[39m \u001B[38;5;129;01mnot\u001B[39;00m \u001B[38;5;129;01min\u001B[39;00m mode:\n\u001B[0;32m   1704\u001B[0m         mode \u001B[38;5;241m+\u001B[39m\u001B[38;5;241m=\u001B[39m \u001B[38;5;124m\"\u001B[39m\u001B[38;5;124mb\u001B[39m\u001B[38;5;124m\"\u001B[39m\n\u001B[1;32m-> 1705\u001B[0m \u001B[38;5;28mself\u001B[39m\u001B[38;5;241m.\u001B[39mhandles \u001B[38;5;241m=\u001B[39m \u001B[43mget_handle\u001B[49m\u001B[43m(\u001B[49m\n\u001B[0;32m   1706\u001B[0m \u001B[43m    \u001B[49m\u001B[43mf\u001B[49m\u001B[43m,\u001B[49m\n\u001B[0;32m   1707\u001B[0m \u001B[43m    \u001B[49m\u001B[43mmode\u001B[49m\u001B[43m,\u001B[49m\n\u001B[0;32m   1708\u001B[0m \u001B[43m    \u001B[49m\u001B[43mencoding\u001B[49m\u001B[38;5;241;43m=\u001B[39;49m\u001B[38;5;28;43mself\u001B[39;49m\u001B[38;5;241;43m.\u001B[39;49m\u001B[43moptions\u001B[49m\u001B[38;5;241;43m.\u001B[39;49m\u001B[43mget\u001B[49m\u001B[43m(\u001B[49m\u001B[38;5;124;43m\"\u001B[39;49m\u001B[38;5;124;43mencoding\u001B[39;49m\u001B[38;5;124;43m\"\u001B[39;49m\u001B[43m,\u001B[49m\u001B[43m \u001B[49m\u001B[38;5;28;43;01mNone\u001B[39;49;00m\u001B[43m)\u001B[49m\u001B[43m,\u001B[49m\n\u001B[0;32m   1709\u001B[0m \u001B[43m    \u001B[49m\u001B[43mcompression\u001B[49m\u001B[38;5;241;43m=\u001B[39;49m\u001B[38;5;28;43mself\u001B[39;49m\u001B[38;5;241;43m.\u001B[39;49m\u001B[43moptions\u001B[49m\u001B[38;5;241;43m.\u001B[39;49m\u001B[43mget\u001B[49m\u001B[43m(\u001B[49m\u001B[38;5;124;43m\"\u001B[39;49m\u001B[38;5;124;43mcompression\u001B[39;49m\u001B[38;5;124;43m\"\u001B[39;49m\u001B[43m,\u001B[49m\u001B[43m \u001B[49m\u001B[38;5;28;43;01mNone\u001B[39;49;00m\u001B[43m)\u001B[49m\u001B[43m,\u001B[49m\n\u001B[0;32m   1710\u001B[0m \u001B[43m    \u001B[49m\u001B[43mmemory_map\u001B[49m\u001B[38;5;241;43m=\u001B[39;49m\u001B[38;5;28;43mself\u001B[39;49m\u001B[38;5;241;43m.\u001B[39;49m\u001B[43moptions\u001B[49m\u001B[38;5;241;43m.\u001B[39;49m\u001B[43mget\u001B[49m\u001B[43m(\u001B[49m\u001B[38;5;124;43m\"\u001B[39;49m\u001B[38;5;124;43mmemory_map\u001B[39;49m\u001B[38;5;124;43m\"\u001B[39;49m\u001B[43m,\u001B[49m\u001B[43m \u001B[49m\u001B[38;5;28;43;01mFalse\u001B[39;49;00m\u001B[43m)\u001B[49m\u001B[43m,\u001B[49m\n\u001B[0;32m   1711\u001B[0m \u001B[43m    \u001B[49m\u001B[43mis_text\u001B[49m\u001B[38;5;241;43m=\u001B[39;49m\u001B[43mis_text\u001B[49m\u001B[43m,\u001B[49m\n\u001B[0;32m   1712\u001B[0m \u001B[43m    \u001B[49m\u001B[43merrors\u001B[49m\u001B[38;5;241;43m=\u001B[39;49m\u001B[38;5;28;43mself\u001B[39;49m\u001B[38;5;241;43m.\u001B[39;49m\u001B[43moptions\u001B[49m\u001B[38;5;241;43m.\u001B[39;49m\u001B[43mget\u001B[49m\u001B[43m(\u001B[49m\u001B[38;5;124;43m\"\u001B[39;49m\u001B[38;5;124;43mencoding_errors\u001B[39;49m\u001B[38;5;124;43m\"\u001B[39;49m\u001B[43m,\u001B[49m\u001B[43m \u001B[49m\u001B[38;5;124;43m\"\u001B[39;49m\u001B[38;5;124;43mstrict\u001B[39;49m\u001B[38;5;124;43m\"\u001B[39;49m\u001B[43m)\u001B[49m\u001B[43m,\u001B[49m\n\u001B[0;32m   1713\u001B[0m \u001B[43m    \u001B[49m\u001B[43mstorage_options\u001B[49m\u001B[38;5;241;43m=\u001B[39;49m\u001B[38;5;28;43mself\u001B[39;49m\u001B[38;5;241;43m.\u001B[39;49m\u001B[43moptions\u001B[49m\u001B[38;5;241;43m.\u001B[39;49m\u001B[43mget\u001B[49m\u001B[43m(\u001B[49m\u001B[38;5;124;43m\"\u001B[39;49m\u001B[38;5;124;43mstorage_options\u001B[39;49m\u001B[38;5;124;43m\"\u001B[39;49m\u001B[43m,\u001B[49m\u001B[43m \u001B[49m\u001B[38;5;28;43;01mNone\u001B[39;49;00m\u001B[43m)\u001B[49m\u001B[43m,\u001B[49m\n\u001B[0;32m   1714\u001B[0m \u001B[43m\u001B[49m\u001B[43m)\u001B[49m\n\u001B[0;32m   1715\u001B[0m \u001B[38;5;28;01massert\u001B[39;00m \u001B[38;5;28mself\u001B[39m\u001B[38;5;241m.\u001B[39mhandles \u001B[38;5;129;01mis\u001B[39;00m \u001B[38;5;129;01mnot\u001B[39;00m \u001B[38;5;28;01mNone\u001B[39;00m\n\u001B[0;32m   1716\u001B[0m f \u001B[38;5;241m=\u001B[39m \u001B[38;5;28mself\u001B[39m\u001B[38;5;241m.\u001B[39mhandles\u001B[38;5;241m.\u001B[39mhandle\n",
      "File \u001B[1;32m~\\Anaconda3\\envs\\pygis311v3\\Lib\\site-packages\\pandas\\io\\common.py:863\u001B[0m, in \u001B[0;36mget_handle\u001B[1;34m(path_or_buf, mode, encoding, compression, memory_map, is_text, errors, storage_options)\u001B[0m\n\u001B[0;32m    858\u001B[0m \u001B[38;5;28;01melif\u001B[39;00m \u001B[38;5;28misinstance\u001B[39m(handle, \u001B[38;5;28mstr\u001B[39m):\n\u001B[0;32m    859\u001B[0m     \u001B[38;5;66;03m# Check whether the filename is to be opened in binary mode.\u001B[39;00m\n\u001B[0;32m    860\u001B[0m     \u001B[38;5;66;03m# Binary mode does not support 'encoding' and 'newline'.\u001B[39;00m\n\u001B[0;32m    861\u001B[0m     \u001B[38;5;28;01mif\u001B[39;00m ioargs\u001B[38;5;241m.\u001B[39mencoding \u001B[38;5;129;01mand\u001B[39;00m \u001B[38;5;124m\"\u001B[39m\u001B[38;5;124mb\u001B[39m\u001B[38;5;124m\"\u001B[39m \u001B[38;5;129;01mnot\u001B[39;00m \u001B[38;5;129;01min\u001B[39;00m ioargs\u001B[38;5;241m.\u001B[39mmode:\n\u001B[0;32m    862\u001B[0m         \u001B[38;5;66;03m# Encoding\u001B[39;00m\n\u001B[1;32m--> 863\u001B[0m         handle \u001B[38;5;241m=\u001B[39m \u001B[38;5;28;43mopen\u001B[39;49m\u001B[43m(\u001B[49m\n\u001B[0;32m    864\u001B[0m \u001B[43m            \u001B[49m\u001B[43mhandle\u001B[49m\u001B[43m,\u001B[49m\n\u001B[0;32m    865\u001B[0m \u001B[43m            \u001B[49m\u001B[43mioargs\u001B[49m\u001B[38;5;241;43m.\u001B[39;49m\u001B[43mmode\u001B[49m\u001B[43m,\u001B[49m\n\u001B[0;32m    866\u001B[0m \u001B[43m            \u001B[49m\u001B[43mencoding\u001B[49m\u001B[38;5;241;43m=\u001B[39;49m\u001B[43mioargs\u001B[49m\u001B[38;5;241;43m.\u001B[39;49m\u001B[43mencoding\u001B[49m\u001B[43m,\u001B[49m\n\u001B[0;32m    867\u001B[0m \u001B[43m            \u001B[49m\u001B[43merrors\u001B[49m\u001B[38;5;241;43m=\u001B[39;49m\u001B[43merrors\u001B[49m\u001B[43m,\u001B[49m\n\u001B[0;32m    868\u001B[0m \u001B[43m            \u001B[49m\u001B[43mnewline\u001B[49m\u001B[38;5;241;43m=\u001B[39;49m\u001B[38;5;124;43m\"\u001B[39;49m\u001B[38;5;124;43m\"\u001B[39;49m\u001B[43m,\u001B[49m\n\u001B[0;32m    869\u001B[0m \u001B[43m        \u001B[49m\u001B[43m)\u001B[49m\n\u001B[0;32m    870\u001B[0m     \u001B[38;5;28;01melse\u001B[39;00m:\n\u001B[0;32m    871\u001B[0m         \u001B[38;5;66;03m# Binary mode\u001B[39;00m\n\u001B[0;32m    872\u001B[0m         handle \u001B[38;5;241m=\u001B[39m \u001B[38;5;28mopen\u001B[39m(handle, ioargs\u001B[38;5;241m.\u001B[39mmode)\n",
      "\u001B[1;31mFileNotFoundError\u001B[0m: [Errno 2] No such file or directory: 'path\\\\to\\\\site_metadata'"
     ]
    }
   ],
   "source": [
    "# read metadata that has each sites' elevation used in ETr/ETo calcs\n",
    "AMF_meta_path = Path('path/to/site_metadata')\n",
    "AMF_meta = pd.read_csv(AMF_meta_path, index_col='SITE_ID')"
   ]
  },
  {
   "cell_type": "code",
   "execution_count": null,
   "metadata": {},
   "outputs": [],
   "source": [
    "# specify path with input CSV files for each station with \n",
    "# input time series of needed data, e.g. zm, u_star, L,...\n",
    "in_dir = Path('dir/with/input')\n",
    "hourly_files = list(in_dir.glob('*.csv'))"
   ]
  },
  {
   "cell_type": "code",
   "execution_count": null,
   "metadata": {},
   "outputs": [],
   "source": [
    "def read_compiled_input(path):\n",
    "    \"\"\"\n",
    "    Check if required input data exists in file and is formatted appropriately.\n",
    "    \n",
    "    Input files should be hourly or finer temporal frequency, drops hours\n",
    "    without required input data. \n",
    "    \"\"\"\n",
    "    ret = None\n",
    "    need_vars = {'latitude','longitude','ET_corr','wind_dir','u_star','sigma_v','zm','hc','d','L'}\n",
    "    #don't parse dates first check if required inputs exist to save processing time\n",
    "    df=pd.read_csv(path, index_col='date', parse_dates=False)\n",
    "    cols = df.columns\n",
    "    check_1 = need_vars.issubset(cols)\n",
    "    check_2 = len({'u_mean','z0'}.intersection(cols)) >= 1 # need one or the other\n",
    "    # if either test failed then insufficient input data for footprint, abort\n",
    "    if not check_1 or not check_2:\n",
    "        return ret\n",
    "    ret = df\n",
    "    ret.index = pd.to_datetime(df.index)\n",
    "    ret = ret.resample('H').mean()\n",
    "    lat,lon = ret[['latitude','longitude']].values[0]\n",
    "    keep_vars = need_vars.union({'u_mean','z0','IGBP_land_classification','secondary_veg_type'})\n",
    "    drop_vars = list(set(cols).difference(keep_vars))\n",
    "    ret.drop(drop_vars, 1, inplace=True)\n",
    "    ret.dropna(subset=['wind_dir','u_star','sigma_v','d','zm','L','ET_corr'], how='any', inplace=True)\n",
    "    return ret, lat, lon"
   ]
  },
  {
   "cell_type": "code",
   "outputs": [
    {
     "name": "stdout",
     "output_type": "stream",
     "text": [
      "32612\n"
     ]
    }
   ],
   "source": [
    "import math\n",
    "# Special zones for Svalbard and Norway\n",
    "def getZones(longitude, latitude) :\n",
    "    \n",
    "    if (latitude >= 72.0 and latitude < 84.0 ) :\n",
    "         if (longitude >= 0.0  and longitude <  9.0) :\n",
    "              return 31              \n",
    "    if (longitude >= 9.0  and longitude < 21.0):\n",
    "          return 33\n",
    "    if (longitude >= 21.0 and longitude < 33.0):\n",
    "          return 35\n",
    "    if (longitude >= 33.0 and longitude < 42.0) :\n",
    "          return 37\n",
    "    return (math.floor((longitude + 180) / 6) ) + 1 \n",
    "    \n",
    "\n",
    "def findEPSG(longitude, latitude) :\n",
    "    \n",
    "    zone = getZones(longitude, latitude)\n",
    "    #zone = (math.floor((longitude + 180) / 6) ) + 1  # without special zones for Svalbard and Norway         \n",
    "    epsg_code = 32600\n",
    "    epsg_code += int(zone)\n",
    "    if (latitude < 0): # South\n",
    "        epsg_code += 100    \n",
    "    return epsg_code\n",
    "    \n",
    "    \n",
    "print(findEPSG(-111,41)    )"
   ],
   "metadata": {
    "collapsed": false,
    "ExecuteTime": {
     "end_time": "2024-03-31T16:53:14.324790800Z",
     "start_time": "2024-03-31T16:53:14.322080600Z"
    }
   },
   "execution_count": 21
  },
  {
   "cell_type": "code",
   "outputs": [
    {
     "data": {
      "text/plain": "(415897.86555468437, 4539238.589499824, 12, 'T')"
     },
     "execution_count": 1,
     "metadata": {},
     "output_type": "execute_result"
    }
   ],
   "source": [
    "#from pyproj import CRS\n",
    "import utm\n",
    "# use PROJ string, assuming a default WGS84\n",
    "# crs = pyproj.CRS.from_string(f'+proj=utm +zone={zone_num} + south')\n",
    "# or dictionary\n",
    "wgs84_lat = 41\n",
    "wgs84_lon = -112\n",
    "#32612\n",
    "utm.from_latlon(wgs84_lat,wgs84_lon)"
   ],
   "metadata": {
    "collapsed": false,
    "ExecuteTime": {
     "end_time": "2024-03-31T12:16:00.945011900Z",
     "start_time": "2024-03-31T12:16:00.274109500Z"
    }
   },
   "execution_count": 1
  },
  {
   "cell_type": "code",
   "outputs": [],
   "source": [
    "import pathlib\n",
    "import pynldas2 as nldas\n",
    "%matplotlib inline\n",
    "\n",
    "station=\"US-UTM\"\n",
    "nldas_out_dir = pathlib.Path('NLDAS_data')\n",
    "if not nldas_out_dir.is_dir():\n",
    "    nldas_out_dir.mkdir(parents=True, exist_ok=True)\n",
    "\n",
    "out_dir = pathlib.Path('All_output')/'AMF'/f'{station}'\n",
    "\n",
    "if not out_dir.is_dir():\n",
    "    out_dir.mkdir(parents=True, exist_ok=True)"
   ],
   "metadata": {
    "collapsed": false,
    "ExecuteTime": {
     "end_time": "2024-03-31T12:45:31.023809Z",
     "start_time": "2024-03-31T12:45:31.016269600Z"
    }
   },
   "execution_count": 9
  },
  {
   "cell_type": "code",
   "outputs": [
    {
     "ename": "FileNotFoundError",
     "evalue": "[Errno 2] No such file or directory: '_static\\\\nldas_grid.png'",
     "output_type": "error",
     "traceback": [
      "\u001B[1;31m---------------------------------------------------------------------------\u001B[0m",
      "\u001B[1;31mFileNotFoundError\u001B[0m                         Traceback (most recent call last)",
      "Cell \u001B[1;32mIn[13], line 3\u001B[0m\n\u001B[0;32m      1\u001B[0m grid \u001B[38;5;241m=\u001B[39m nldas\u001B[38;5;241m.\u001B[39mget_grid_mask()\n\u001B[0;32m      2\u001B[0m ax \u001B[38;5;241m=\u001B[39m grid\u001B[38;5;241m.\u001B[39mNLDAS_veg\u001B[38;5;241m.\u001B[39mplot()\n\u001B[1;32m----> 3\u001B[0m \u001B[43max\u001B[49m\u001B[38;5;241;43m.\u001B[39;49m\u001B[43mfigure\u001B[49m\u001B[38;5;241;43m.\u001B[39;49m\u001B[43msavefig\u001B[49m\u001B[43m(\u001B[49m\u001B[43mpathlib\u001B[49m\u001B[38;5;241;43m.\u001B[39;49m\u001B[43mPath\u001B[49m\u001B[43m(\u001B[49m\u001B[38;5;124;43m\"\u001B[39;49m\u001B[38;5;124;43m_static\u001B[39;49m\u001B[38;5;124;43m\"\u001B[39;49m\u001B[43m,\u001B[49m\u001B[43m \u001B[49m\u001B[38;5;124;43m\"\u001B[39;49m\u001B[38;5;124;43mnldas_grid.png\u001B[39;49m\u001B[38;5;124;43m\"\u001B[39;49m\u001B[43m)\u001B[49m\u001B[43m,\u001B[49m\u001B[43m \u001B[49m\u001B[43mfacecolor\u001B[49m\u001B[38;5;241;43m=\u001B[39;49m\u001B[38;5;124;43m\"\u001B[39;49m\u001B[38;5;124;43mw\u001B[39;49m\u001B[38;5;124;43m\"\u001B[39;49m\u001B[43m,\u001B[49m\u001B[43m \u001B[49m\u001B[43mbbox_inches\u001B[49m\u001B[38;5;241;43m=\u001B[39;49m\u001B[38;5;124;43m\"\u001B[39;49m\u001B[38;5;124;43mtight\u001B[39;49m\u001B[38;5;124;43m\"\u001B[39;49m\u001B[43m)\u001B[49m\n",
      "File \u001B[1;32m~\\Anaconda3\\envs\\pygis311v3\\Lib\\site-packages\\matplotlib\\figure.py:3390\u001B[0m, in \u001B[0;36mFigure.savefig\u001B[1;34m(self, fname, transparent, **kwargs)\u001B[0m\n\u001B[0;32m   3388\u001B[0m     \u001B[38;5;28;01mfor\u001B[39;00m ax \u001B[38;5;129;01min\u001B[39;00m \u001B[38;5;28mself\u001B[39m\u001B[38;5;241m.\u001B[39maxes:\n\u001B[0;32m   3389\u001B[0m         _recursively_make_axes_transparent(stack, ax)\n\u001B[1;32m-> 3390\u001B[0m \u001B[38;5;28;43mself\u001B[39;49m\u001B[38;5;241;43m.\u001B[39;49m\u001B[43mcanvas\u001B[49m\u001B[38;5;241;43m.\u001B[39;49m\u001B[43mprint_figure\u001B[49m\u001B[43m(\u001B[49m\u001B[43mfname\u001B[49m\u001B[43m,\u001B[49m\u001B[43m \u001B[49m\u001B[38;5;241;43m*\u001B[39;49m\u001B[38;5;241;43m*\u001B[39;49m\u001B[43mkwargs\u001B[49m\u001B[43m)\u001B[49m\n",
      "File \u001B[1;32m~\\Anaconda3\\envs\\pygis311v3\\Lib\\site-packages\\matplotlib\\backend_bases.py:2187\u001B[0m, in \u001B[0;36mFigureCanvasBase.print_figure\u001B[1;34m(self, filename, dpi, facecolor, edgecolor, orientation, format, bbox_inches, pad_inches, bbox_extra_artists, backend, **kwargs)\u001B[0m\n\u001B[0;32m   2183\u001B[0m \u001B[38;5;28;01mtry\u001B[39;00m:\n\u001B[0;32m   2184\u001B[0m     \u001B[38;5;66;03m# _get_renderer may change the figure dpi (as vector formats\u001B[39;00m\n\u001B[0;32m   2185\u001B[0m     \u001B[38;5;66;03m# force the figure dpi to 72), so we need to set it again here.\u001B[39;00m\n\u001B[0;32m   2186\u001B[0m     \u001B[38;5;28;01mwith\u001B[39;00m cbook\u001B[38;5;241m.\u001B[39m_setattr_cm(\u001B[38;5;28mself\u001B[39m\u001B[38;5;241m.\u001B[39mfigure, dpi\u001B[38;5;241m=\u001B[39mdpi):\n\u001B[1;32m-> 2187\u001B[0m         result \u001B[38;5;241m=\u001B[39m \u001B[43mprint_method\u001B[49m\u001B[43m(\u001B[49m\n\u001B[0;32m   2188\u001B[0m \u001B[43m            \u001B[49m\u001B[43mfilename\u001B[49m\u001B[43m,\u001B[49m\n\u001B[0;32m   2189\u001B[0m \u001B[43m            \u001B[49m\u001B[43mfacecolor\u001B[49m\u001B[38;5;241;43m=\u001B[39;49m\u001B[43mfacecolor\u001B[49m\u001B[43m,\u001B[49m\n\u001B[0;32m   2190\u001B[0m \u001B[43m            \u001B[49m\u001B[43medgecolor\u001B[49m\u001B[38;5;241;43m=\u001B[39;49m\u001B[43medgecolor\u001B[49m\u001B[43m,\u001B[49m\n\u001B[0;32m   2191\u001B[0m \u001B[43m            \u001B[49m\u001B[43morientation\u001B[49m\u001B[38;5;241;43m=\u001B[39;49m\u001B[43morientation\u001B[49m\u001B[43m,\u001B[49m\n\u001B[0;32m   2192\u001B[0m \u001B[43m            \u001B[49m\u001B[43mbbox_inches_restore\u001B[49m\u001B[38;5;241;43m=\u001B[39;49m\u001B[43m_bbox_inches_restore\u001B[49m\u001B[43m,\u001B[49m\n\u001B[0;32m   2193\u001B[0m \u001B[43m            \u001B[49m\u001B[38;5;241;43m*\u001B[39;49m\u001B[38;5;241;43m*\u001B[39;49m\u001B[43mkwargs\u001B[49m\u001B[43m)\u001B[49m\n\u001B[0;32m   2194\u001B[0m \u001B[38;5;28;01mfinally\u001B[39;00m:\n\u001B[0;32m   2195\u001B[0m     \u001B[38;5;28;01mif\u001B[39;00m bbox_inches \u001B[38;5;129;01mand\u001B[39;00m restore_bbox:\n",
      "File \u001B[1;32m~\\Anaconda3\\envs\\pygis311v3\\Lib\\site-packages\\matplotlib\\backend_bases.py:2043\u001B[0m, in \u001B[0;36mFigureCanvasBase._switch_canvas_and_return_print_method.<locals>.<lambda>\u001B[1;34m(*args, **kwargs)\u001B[0m\n\u001B[0;32m   2039\u001B[0m     optional_kws \u001B[38;5;241m=\u001B[39m {  \u001B[38;5;66;03m# Passed by print_figure for other renderers.\u001B[39;00m\n\u001B[0;32m   2040\u001B[0m         \u001B[38;5;124m\"\u001B[39m\u001B[38;5;124mdpi\u001B[39m\u001B[38;5;124m\"\u001B[39m, \u001B[38;5;124m\"\u001B[39m\u001B[38;5;124mfacecolor\u001B[39m\u001B[38;5;124m\"\u001B[39m, \u001B[38;5;124m\"\u001B[39m\u001B[38;5;124medgecolor\u001B[39m\u001B[38;5;124m\"\u001B[39m, \u001B[38;5;124m\"\u001B[39m\u001B[38;5;124morientation\u001B[39m\u001B[38;5;124m\"\u001B[39m,\n\u001B[0;32m   2041\u001B[0m         \u001B[38;5;124m\"\u001B[39m\u001B[38;5;124mbbox_inches_restore\u001B[39m\u001B[38;5;124m\"\u001B[39m}\n\u001B[0;32m   2042\u001B[0m     skip \u001B[38;5;241m=\u001B[39m optional_kws \u001B[38;5;241m-\u001B[39m {\u001B[38;5;241m*\u001B[39minspect\u001B[38;5;241m.\u001B[39msignature(meth)\u001B[38;5;241m.\u001B[39mparameters}\n\u001B[1;32m-> 2043\u001B[0m     print_method \u001B[38;5;241m=\u001B[39m functools\u001B[38;5;241m.\u001B[39mwraps(meth)(\u001B[38;5;28;01mlambda\u001B[39;00m \u001B[38;5;241m*\u001B[39margs, \u001B[38;5;241m*\u001B[39m\u001B[38;5;241m*\u001B[39mkwargs: \u001B[43mmeth\u001B[49m\u001B[43m(\u001B[49m\n\u001B[0;32m   2044\u001B[0m \u001B[43m        \u001B[49m\u001B[38;5;241;43m*\u001B[39;49m\u001B[43margs\u001B[49m\u001B[43m,\u001B[49m\u001B[43m \u001B[49m\u001B[38;5;241;43m*\u001B[39;49m\u001B[38;5;241;43m*\u001B[39;49m\u001B[43m{\u001B[49m\u001B[43mk\u001B[49m\u001B[43m:\u001B[49m\u001B[43m \u001B[49m\u001B[43mv\u001B[49m\u001B[43m \u001B[49m\u001B[38;5;28;43;01mfor\u001B[39;49;00m\u001B[43m \u001B[49m\u001B[43mk\u001B[49m\u001B[43m,\u001B[49m\u001B[43m \u001B[49m\u001B[43mv\u001B[49m\u001B[43m \u001B[49m\u001B[38;5;129;43;01min\u001B[39;49;00m\u001B[43m \u001B[49m\u001B[43mkwargs\u001B[49m\u001B[38;5;241;43m.\u001B[39;49m\u001B[43mitems\u001B[49m\u001B[43m(\u001B[49m\u001B[43m)\u001B[49m\u001B[43m \u001B[49m\u001B[38;5;28;43;01mif\u001B[39;49;00m\u001B[43m \u001B[49m\u001B[43mk\u001B[49m\u001B[43m \u001B[49m\u001B[38;5;129;43;01mnot\u001B[39;49;00m\u001B[43m \u001B[49m\u001B[38;5;129;43;01min\u001B[39;49;00m\u001B[43m \u001B[49m\u001B[43mskip\u001B[49m\u001B[43m}\u001B[49m\u001B[43m)\u001B[49m)\n\u001B[0;32m   2045\u001B[0m \u001B[38;5;28;01melse\u001B[39;00m:  \u001B[38;5;66;03m# Let third-parties do as they see fit.\u001B[39;00m\n\u001B[0;32m   2046\u001B[0m     print_method \u001B[38;5;241m=\u001B[39m meth\n",
      "File \u001B[1;32m~\\Anaconda3\\envs\\pygis311v3\\Lib\\site-packages\\matplotlib\\backends\\backend_agg.py:497\u001B[0m, in \u001B[0;36mFigureCanvasAgg.print_png\u001B[1;34m(self, filename_or_obj, metadata, pil_kwargs)\u001B[0m\n\u001B[0;32m    450\u001B[0m \u001B[38;5;28;01mdef\u001B[39;00m \u001B[38;5;21mprint_png\u001B[39m(\u001B[38;5;28mself\u001B[39m, filename_or_obj, \u001B[38;5;241m*\u001B[39m, metadata\u001B[38;5;241m=\u001B[39m\u001B[38;5;28;01mNone\u001B[39;00m, pil_kwargs\u001B[38;5;241m=\u001B[39m\u001B[38;5;28;01mNone\u001B[39;00m):\n\u001B[0;32m    451\u001B[0m \u001B[38;5;250m    \u001B[39m\u001B[38;5;124;03m\"\"\"\u001B[39;00m\n\u001B[0;32m    452\u001B[0m \u001B[38;5;124;03m    Write the figure to a PNG file.\u001B[39;00m\n\u001B[0;32m    453\u001B[0m \n\u001B[1;32m   (...)\u001B[0m\n\u001B[0;32m    495\u001B[0m \u001B[38;5;124;03m        *metadata*, including the default 'Software' key.\u001B[39;00m\n\u001B[0;32m    496\u001B[0m \u001B[38;5;124;03m    \"\"\"\u001B[39;00m\n\u001B[1;32m--> 497\u001B[0m     \u001B[38;5;28;43mself\u001B[39;49m\u001B[38;5;241;43m.\u001B[39;49m\u001B[43m_print_pil\u001B[49m\u001B[43m(\u001B[49m\u001B[43mfilename_or_obj\u001B[49m\u001B[43m,\u001B[49m\u001B[43m \u001B[49m\u001B[38;5;124;43m\"\u001B[39;49m\u001B[38;5;124;43mpng\u001B[39;49m\u001B[38;5;124;43m\"\u001B[39;49m\u001B[43m,\u001B[49m\u001B[43m \u001B[49m\u001B[43mpil_kwargs\u001B[49m\u001B[43m,\u001B[49m\u001B[43m \u001B[49m\u001B[43mmetadata\u001B[49m\u001B[43m)\u001B[49m\n",
      "File \u001B[1;32m~\\Anaconda3\\envs\\pygis311v3\\Lib\\site-packages\\matplotlib\\backends\\backend_agg.py:446\u001B[0m, in \u001B[0;36mFigureCanvasAgg._print_pil\u001B[1;34m(self, filename_or_obj, fmt, pil_kwargs, metadata)\u001B[0m\n\u001B[0;32m    441\u001B[0m \u001B[38;5;250m\u001B[39m\u001B[38;5;124;03m\"\"\"\u001B[39;00m\n\u001B[0;32m    442\u001B[0m \u001B[38;5;124;03mDraw the canvas, then save it using `.image.imsave` (to which\u001B[39;00m\n\u001B[0;32m    443\u001B[0m \u001B[38;5;124;03m*pil_kwargs* and *metadata* are forwarded).\u001B[39;00m\n\u001B[0;32m    444\u001B[0m \u001B[38;5;124;03m\"\"\"\u001B[39;00m\n\u001B[0;32m    445\u001B[0m FigureCanvasAgg\u001B[38;5;241m.\u001B[39mdraw(\u001B[38;5;28mself\u001B[39m)\n\u001B[1;32m--> 446\u001B[0m \u001B[43mmpl\u001B[49m\u001B[38;5;241;43m.\u001B[39;49m\u001B[43mimage\u001B[49m\u001B[38;5;241;43m.\u001B[39;49m\u001B[43mimsave\u001B[49m\u001B[43m(\u001B[49m\n\u001B[0;32m    447\u001B[0m \u001B[43m    \u001B[49m\u001B[43mfilename_or_obj\u001B[49m\u001B[43m,\u001B[49m\u001B[43m \u001B[49m\u001B[38;5;28;43mself\u001B[39;49m\u001B[38;5;241;43m.\u001B[39;49m\u001B[43mbuffer_rgba\u001B[49m\u001B[43m(\u001B[49m\u001B[43m)\u001B[49m\u001B[43m,\u001B[49m\u001B[43m \u001B[49m\u001B[38;5;28;43mformat\u001B[39;49m\u001B[38;5;241;43m=\u001B[39;49m\u001B[43mfmt\u001B[49m\u001B[43m,\u001B[49m\u001B[43m \u001B[49m\u001B[43morigin\u001B[49m\u001B[38;5;241;43m=\u001B[39;49m\u001B[38;5;124;43m\"\u001B[39;49m\u001B[38;5;124;43mupper\u001B[39;49m\u001B[38;5;124;43m\"\u001B[39;49m\u001B[43m,\u001B[49m\n\u001B[0;32m    448\u001B[0m \u001B[43m    \u001B[49m\u001B[43mdpi\u001B[49m\u001B[38;5;241;43m=\u001B[39;49m\u001B[38;5;28;43mself\u001B[39;49m\u001B[38;5;241;43m.\u001B[39;49m\u001B[43mfigure\u001B[49m\u001B[38;5;241;43m.\u001B[39;49m\u001B[43mdpi\u001B[49m\u001B[43m,\u001B[49m\u001B[43m \u001B[49m\u001B[43mmetadata\u001B[49m\u001B[38;5;241;43m=\u001B[39;49m\u001B[43mmetadata\u001B[49m\u001B[43m,\u001B[49m\u001B[43m \u001B[49m\u001B[43mpil_kwargs\u001B[49m\u001B[38;5;241;43m=\u001B[39;49m\u001B[43mpil_kwargs\u001B[49m\u001B[43m)\u001B[49m\n",
      "File \u001B[1;32m~\\Anaconda3\\envs\\pygis311v3\\Lib\\site-packages\\matplotlib\\image.py:1656\u001B[0m, in \u001B[0;36mimsave\u001B[1;34m(fname, arr, vmin, vmax, cmap, format, origin, dpi, metadata, pil_kwargs)\u001B[0m\n\u001B[0;32m   1654\u001B[0m pil_kwargs\u001B[38;5;241m.\u001B[39msetdefault(\u001B[38;5;124m\"\u001B[39m\u001B[38;5;124mformat\u001B[39m\u001B[38;5;124m\"\u001B[39m, \u001B[38;5;28mformat\u001B[39m)\n\u001B[0;32m   1655\u001B[0m pil_kwargs\u001B[38;5;241m.\u001B[39msetdefault(\u001B[38;5;124m\"\u001B[39m\u001B[38;5;124mdpi\u001B[39m\u001B[38;5;124m\"\u001B[39m, (dpi, dpi))\n\u001B[1;32m-> 1656\u001B[0m \u001B[43mimage\u001B[49m\u001B[38;5;241;43m.\u001B[39;49m\u001B[43msave\u001B[49m\u001B[43m(\u001B[49m\u001B[43mfname\u001B[49m\u001B[43m,\u001B[49m\u001B[43m \u001B[49m\u001B[38;5;241;43m*\u001B[39;49m\u001B[38;5;241;43m*\u001B[39;49m\u001B[43mpil_kwargs\u001B[49m\u001B[43m)\u001B[49m\n",
      "File \u001B[1;32m~\\Anaconda3\\envs\\pygis311v3\\Lib\\site-packages\\PIL\\Image.py:2435\u001B[0m, in \u001B[0;36mImage.save\u001B[1;34m(self, fp, format, **params)\u001B[0m\n\u001B[0;32m   2433\u001B[0m         fp \u001B[38;5;241m=\u001B[39m builtins\u001B[38;5;241m.\u001B[39mopen(filename, \u001B[38;5;124m\"\u001B[39m\u001B[38;5;124mr+b\u001B[39m\u001B[38;5;124m\"\u001B[39m)\n\u001B[0;32m   2434\u001B[0m     \u001B[38;5;28;01melse\u001B[39;00m:\n\u001B[1;32m-> 2435\u001B[0m         fp \u001B[38;5;241m=\u001B[39m \u001B[43mbuiltins\u001B[49m\u001B[38;5;241;43m.\u001B[39;49m\u001B[43mopen\u001B[49m\u001B[43m(\u001B[49m\u001B[43mfilename\u001B[49m\u001B[43m,\u001B[49m\u001B[43m \u001B[49m\u001B[38;5;124;43m\"\u001B[39;49m\u001B[38;5;124;43mw+b\u001B[39;49m\u001B[38;5;124;43m\"\u001B[39;49m\u001B[43m)\u001B[49m\n\u001B[0;32m   2437\u001B[0m \u001B[38;5;28;01mtry\u001B[39;00m:\n\u001B[0;32m   2438\u001B[0m     save_handler(\u001B[38;5;28mself\u001B[39m, fp, filename)\n",
      "\u001B[1;31mFileNotFoundError\u001B[0m: [Errno 2] No such file or directory: '_static\\\\nldas_grid.png'"
     ]
    },
    {
     "data": {
      "text/plain": "<Figure size 640x480 with 2 Axes>",
      "image/png": "[encoded data removed]"
     },
     "metadata": {},
     "output_type": "display_data"
    }
   ],
   "source": [
    "grid = nldas.get_grid_mask()\n",
    "ax = grid.NLDAS_veg.plot()\n",
    "ax.figure.savefig(pathlib.Path(\"_static\", \"nldas_grid.png\"), facecolor=\"w\", bbox_inches=\"tight\")"
   ],
   "metadata": {
    "collapsed": false,
    "ExecuteTime": {
     "end_time": "2024-03-31T12:46:33.924151500Z",
     "start_time": "2024-03-31T12:46:32.651275600Z"
    }
   },
   "execution_count": 13
  },
  {
   "cell_type": "markdown",
   "source": [
    "https://disc.gsfc.nasa.gov/information/tools?title=Hydrology%20Data%20Rods"
   ],
   "metadata": {
    "collapsed": false
   }
  },
  {
   "cell_type": "code",
   "outputs": [
    {
     "data": {
      "text/plain": "False"
     },
     "execution_count": 14,
     "metadata": {},
     "output_type": "execute_result"
    }
   ],
   "source": [
    "date = pd.to_datetime('2020-07-01 10:00')\n",
    "type(date) == str"
   ],
   "metadata": {
    "collapsed": false,
    "ExecuteTime": {
     "end_time": "2024-03-31T19:40:32.660245200Z",
     "start_time": "2024-03-31T19:40:32.643981900Z"
    }
   },
   "execution_count": 14
  },
  {
   "cell_type": "code",
   "outputs": [],
   "source": [
    "for date in df.index.date:\n",
    "    # Subset dataframe to only values in day of year\n",
    "    print(f'Date: {date}')\n",
    "    temp_df = df[df.index.date == date]\n",
    "    temp_df = temp_df.between_time(f'{start_hr:02}:00', f'{end_hr:02}:00')\n",
    "    # check on n hours per day\n",
    "    if len(temp_df) < 5:\n",
    "        print(f'Less than 5 hours of data on {date}, skipping.')\n",
    "        continue\n",
    "\n",
    "    new_dat = None\n",
    "    out_f = out_dir / f'{date}.tif'\n",
    "    final_outf = out_dir / f'{date.year}-{date.month:02}-{date.day:02}_weighted.tif'\n",
    "    \n",
    "    if final_outf.is_file():\n",
    "        print(f'final daily weighted footprint already wrote to: {final_outf}\\nskipping.')\n",
    "        continue  # do not overwrite date/site raster\n",
    "\n",
    "    # make hourly band raster for the day\n",
    "    for indx, hour in enumerate(hours_zero_indexed):\n",
    "        band = indx + 1\n",
    "        print(f'Hour: {hour}')\n",
    "        try:\n",
    "            temp_line = temp_df.loc[temp_df.index.hour == hour, :]\n",
    "            if temp_line.empty:\n",
    "                print(f'Missing all data for {date, hour} skipping')\n",
    "                continue\n",
    "            zm = temp_line.zm.values - temp_line.d.values\n",
    "            z0 = temp_line.z0.values if 'z0' in temp_line.columns else None\n",
    "            u_mean = temp_line.u_mean.values if 'u_mean' in temp_line.columns else None\n",
    "            if u_mean is not None: z0 = None\n",
    "\n",
    "            # Calculate footprint\n",
    "            temp_ffp = ffp.ffp_climatology(\n",
    "                domain=[-origin_d, origin_d, -origin_d, origin_d], dx=dx, dy=dx,\n",
    "                zm=zm, h=h_s, rs=None, z0=z0, ol=temp_line['L'].values,\n",
    "                sigmav=temp_line['sigma_v'].values,\n",
    "                ustar=temp_line['u_star'].values, umean=u_mean,\n",
    "                wind_dir=temp_line['wind_dir'].values,\n",
    "                crop=0, fig=0, verbosity=0\n",
    "            )\n",
    "            f_2d = np.array(temp_ffp['fclim_2d'])\n",
    "            x_2d = np.array(temp_ffp['x_2d']) + station_x\n",
    "            y_2d = np.array(temp_ffp['y_2d']) + station_y\n",
    "            f_2d = f_2d * dx ** 2\n",
    "\n",
    "            # Calculate affine transform for given x_2d and y_2d\n",
    "            affine_transform = ff.find_transform(x_2d, y_2d)\n",
    "\n",
    "            # Create data file if not already created\n",
    "            if new_dat is None:\n",
    "                # print(f_2d.shape)\n",
    "                new_dat = rasterio.open(\n",
    "                    out_f, 'w', driver='GTiff', dtype=rasterio.float64,\n",
    "                    count=n_hrs, height=f_2d.shape[0], width=f_2d.shape[1],\n",
    "                    transform=affine_transform, crs=out_proj.srs,\n",
    "                    nodata=0.00000000e+000\n",
    "                )\n",
    "\n",
    "        except Exception as e:\n",
    "            print(f'Hour {hour} footprint failed, band {band} not written.')\n",
    "            temp_ffp = None\n",
    "            continue\n",
    "\n",
    "        # Mask out points that are below a % threshold (defaults to 90%)\n",
    "        f_2d = ff.mask_fp_cutoff(f_2d)\n",
    "        # Write the new band\n",
    "        new_dat.write(f_2d, indx + 1)\n",
    "        # Update tags with metadata\n",
    "        tag_dict = {'hour': f'{hour * 100:04}',\n",
    "                    'wind_dir': temp_line['wind_dir'].values,\n",
    "                    'total_footprint': np.nansum(f_2d)}\n",
    "\n",
    "        new_dat.update_tags(indx + 1, **tag_dict)\n",
    "\n",
    "    # Close dataset if it exists\n",
    "    try:\n",
    "        new_dat.close()\n",
    "    except:\n",
    "        print(f'ERROR: could not write footprint for site: {station}:\\nto: {out_f}')\n",
    "        continue  # skip to next day..."
   ],
   "metadata": {
    "collapsed": false
   }
  },
  {
   "cell_type": "code",
   "outputs": [],
   "source": [
    "import pandas as pd\n",
    "import refet\n",
    "import numpy as np\n",
    "import pathlib\n",
    "latitude = 41.1\n",
    "longitude = -112.1\n",
    "#Other model parameters\n",
    "h_s = 2000. #Height of atmos. boundary layer [m] - assumed\n",
    "dx = 30. #Model resolution [m]\n",
    "origin_d = 300. #Model bounds distance from origin [m]\n",
    "#modify if needed\n",
    "start_hr = 6 # hours from 1 to 24\n",
    "end_hr = 18\n",
    "\n",
    "nldas_ts_outf = pathlib.Path(\"./nldas_ts_outf.csv\")\n",
    "\n",
    "date = pd.to_datetime('2020-07-01 10:00')\n",
    "\n",
    "zm = 10.\n",
    "elevation = 1025.\n",
    "\n",
    "def ref_et_from_nldas(date='2020-07-01 10:00', latitude = 41.1, longitude = -112.1,zm = 10., \n",
    "                      elevation = 1025.):\n",
    "    if type(date) == str:\n",
    "        date = pd.to_datetime(date)\n",
    "    \n",
    "    df = nldas.get_bycoords([(longitude, latitude)], start_date=f'{date:%Y-%m-%d}', end_date=f'{date + pd.DateOffset(days=1):%Y-%m-%d}',source='netcdf')\n",
    "    df['pair'] = df['psurf'].values / 1000\n",
    "    df['ea'] = refet.calcs._actual_vapor_pressure(q=df['humidity'], pair=df['pair'])\n",
    "    df['wind'] = np.sqrt(df['wind_u'] ** 2 + df['wind_v'] ** 2)\n",
    "    df['temp_C'] = df['temp'].values - 273.15\n",
    "    \n",
    "    unit_dict = {'rs': 'w/m2'}\n",
    "    \n",
    "    # create refet object for calculating\n",
    "    refet_obj = refet.Hourly(\n",
    "        tmean=df['temp_C'], ea=df['ea'], rs=df['rsds'], uz=df['wind'],\n",
    "        zw=zm, elev=elevation, lat=latitude, lon=longitude,\n",
    "        doy=df.index.dayofyear, time=df.index.hour, method='asce', input_units=unit_dict) #HH must be int\n",
    "    \n",
    "    df['ETr'] = refet_obj.etr()\n",
    "    df['ETo'] = refet_obj.eto()\n",
    "    df.index.name = 'date'\n",
    "    \n",
    "    return df\n",
    "\n",
    "# if first run save file with individual datetime (hour data) else open and overwrite hour\n",
    "if not nldas_ts_outf.is_file():\n",
    "    df.round(4).to_csv(nldas_ts_outf)\n",
    "else:\n",
    "    curr_df = pd.read_csv(nldas_ts_outf, index_col='date', parse_dates=True)\n",
    "    curr_df.loc[df.index] = df.loc[df.index]\n",
    "    curr_df.round(4).to_csv(nldas_ts_outf)    "
   ],
   "metadata": {
    "collapsed": false,
    "ExecuteTime": {
     "end_time": "2024-03-31T15:42:38.582278800Z",
     "start_time": "2024-03-31T15:42:38.522186700Z"
    }
   },
   "execution_count": 14
  },
  {
   "cell_type": "code",
   "outputs": [
    {
     "name": "stderr",
     "output_type": "stream",
     "text": [
      "C:\\Users\\paulinkenbrandt\\Anaconda3\\envs\\pygis311v3\\Lib\\site-packages\\pyproj\\crs\\crs.py:141: FutureWarning: '+init=<authority>:<code>' syntax is deprecated. '<authority>:<code>' is the preferred initialization method. When making the change, be mindful of axis order changes: https://pyproj4.github.io/pyproj/stable/gotchas.html#axis-order-changes-in-proj-6\n",
      "  in_crs_string = _prepare_from_proj_string(in_crs_string)\n",
      "C:\\Users\\paulinkenbrandt\\Anaconda3\\envs\\pygis311v3\\Lib\\site-packages\\pyproj\\crs\\crs.py:141: FutureWarning: '+init=<authority>:<code>' syntax is deprecated. '<authority>:<code>' is the preferred initialization method. When making the change, be mindful of axis order changes: https://pyproj4.github.io/pyproj/stable/gotchas.html#axis-order-changes-in-proj-6\n",
      "  in_crs_string = _prepare_from_proj_string(in_crs_string)\n",
      "C:\\Users\\paulinkenbrandt\\AppData\\Local\\Temp\\1\\ipykernel_19976\\2743531886.py:9: FutureWarning: This function is deprecated. See: https://pyproj4.github.io/pyproj/stable/gotchas.html#upgrading-to-pyproj-2-from-pyproj-1\n",
      "  (station_x,station_y) = proj.transform(in_proj,out_proj,*station_coord)\n"
     ]
    }
   ],
   "source": [
    "latitude = 41.1\n",
    "longitude = -112.1\n",
    "station_coord = (latitude, longitude)\n",
    "#get EPSG code from lat,long, convert to UTM\n",
    "EPSG=32700-np.round((45+latitude)/90.0)*100+np.round((183+longitude)/6.0)\n",
    "EPSG = int(EPSG)\n",
    "in_proj = proj.Proj(init='EPSG:4326')\n",
    "out_proj = proj.Proj(init='EPSG:{}'.format(EPSG))\n",
    "(station_x,station_y) = proj.transform(in_proj,out_proj,*station_coord)"
   ],
   "metadata": {
    "collapsed": false,
    "ExecuteTime": {
     "end_time": "2024-03-31T16:31:22.792587900Z",
     "start_time": "2024-03-31T16:31:22.741446100Z"
    }
   },
   "execution_count": 17
  },
  {
   "cell_type": "code",
   "outputs": [
    {
     "data": {
      "text/plain": "23"
     },
     "execution_count": 54,
     "metadata": {},
     "output_type": "execute_result"
    }
   ],
   "source": [
    "hour.hour"
   ],
   "metadata": {
    "collapsed": false,
    "ExecuteTime": {
     "end_time": "2024-03-31T15:21:55.816689200Z",
     "start_time": "2024-03-31T15:21:55.798972400Z"
    }
   },
   "execution_count": 54
  },
  {
   "cell_type": "code",
   "outputs": [
    {
     "data": {
      "text/plain": "array([0.87784682])"
     },
     "execution_count": 57,
     "metadata": {},
     "output_type": "execute_result"
    }
   ],
   "source": [
    "refet_obj.etr()"
   ],
   "metadata": {
    "collapsed": false,
    "ExecuteTime": {
     "end_time": "2024-03-31T15:23:06.098145600Z",
     "start_time": "2024-03-31T15:23:06.082006900Z"
    }
   },
   "execution_count": 57
  },
  {
   "cell_type": "code",
   "outputs": [],
   "source": [
    "# get hourly time series of ETr and ETo, save\n",
    "for hour in hours_zero_indexed:\n",
    "    #NLDAS version 2, primary forcing set (a), DOY must be 3 digit zero padded, HH 2-digit between 00-23, MM and DD also 2 digit\n",
    "    YYYY = date.year\n",
    "    DOY = date.timetuple().tm_yday\n",
    "    MM = date.month\n",
    "    DD = date.day\n",
    "    HH = hour\n",
    "    # already ensured to exist above loop\n",
    "    nldas_outf_path = nldas_out_dir / f'{YYYY}_{MM:02}_{DD:02}_{HH:02}.grb'\n",
    "    # open grib and extract needed data at nearest gridcell, calc ETr/ETo anf append to time series\n",
    "    ds = xarray.open_dataset(nldas_outf_path,engine='pynio').sel(lat_110=latitude, lon_110=longitude, method='nearest')\n",
    "    # calculate hourly ea from specific humidity\n",
    "    pair = ds.get('PRES_110_SFC').data / 1000 # nldas air pres in Pa convert to kPa\n",
    "    sph = ds.get('SPF_H_110_HTGL').data # kg/kg\n",
    "    ea = refet.calcs._actual_vapor_pressure(q=sph, pair=pair) # ea in kPa\n",
    "    # calculate hourly wind\n",
    "    wind_u = ds.get('U_GRD_110_HTGL').data\n",
    "    wind_v = ds.get('V_GRD_110_HTGL').data\n",
    "    wind = np.sqrt(wind_u ** 2 + wind_v ** 2)\n",
    "    # get temp convert to C\n",
    "    temp = ds.get('TMP_110_HTGL').data - 273.15\n",
    "    # get rs\n",
    "    rs = ds.get('DSWRF_110_SFC').data\n",
    "    unit_dict = {'rs': 'w/m2'}\n",
    "    # create refet object for calculating\n",
    "\n",
    "    refet_obj = refet.Hourly(\n",
    "        tmean=temp, ea=ea, rs=rs, uz=wind,\n",
    "        zw=zm, elev=elevation, lat=latitude, lon=longitude,\n",
    "        doy=DOY, time=HH, method='asce', input_units=unit_dict) #HH must be int\n",
    "\n",
    "    # this one is saved under the site_ID subdir\n",
    "    nldas_ts_outf = out_dir/ f'nldas_ETr.csv'\n",
    "    # save/append time series of point data\n",
    "    dt = pd.to_datetime(YYYY,MM,DD,HH)\n",
    "    ETr_df = pd.DataFrame(columns=['ETr','ETo','ea','sph','wind','pair','temp','rs'])\n",
    "    ETr_df.loc[dt, 'ETr'] = refet_obj.etr()[0]\n",
    "    ETr_df.loc[dt, 'ETo'] = refet_obj.eto()[0]\n",
    "    ETr_df.loc[dt, 'ea'] = ea[0]\n",
    "    ETr_df.loc[dt, 'sph'] = sph\n",
    "    ETr_df.loc[dt, 'wind'] = wind\n",
    "    ETr_df.loc[dt, 'pair'] = pair\n",
    "    ETr_df.loc[dt, 'temp'] = temp\n",
    "    ETr_df.loc[dt, 'rs'] = rs\n",
    "    ETr_df.index.name = 'date'\n",
    "\n",
    "    # if first run save file with individual datetime (hour data) else open and overwrite hour\n",
    "    if not nldas_ts_outf.is_file():\n",
    "        ETr_df.round(4).to_csv(nldas_ts_outf)\n",
    "    else:\n",
    "        curr_df = pd.read_csv(nldas_ts_outf, index_col='date', parse_dates=True)\n",
    "        curr_df.loc[dt] = ETr_df.loc[dt]\n",
    "        curr_df.round(4).to_csv(nldas_ts_outf)    "
   ],
   "metadata": {
    "collapsed": false
   }
  },
  {
   "cell_type": "markdown",
   "metadata": {},
   "source": [
    "# Now have hourly input data including station coords"
   ]
  },
  {
   "cell_type": "code",
   "outputs": [],
   "source": [
    "# constant declarations\n",
    "EPSG_BASE = 32700\n",
    "EPSG_CONV_FACTOR1 = 90.0\n",
    "EPSG_CONV_FACTOR2 = 6.0\n",
    "EPSG_OUT_INIT = 'EPSG:{}'\n",
    "COORD_ADJUSTMENT = 15\n",
    "\n",
    "def sanitize_coordinate(coordinate):\n",
    "    remainder = coordinate % COORD_ADJUSTMENT\n",
    "    if remainder > COORD_ADJUSTMENT / 2:\n",
    "        coordinate += (COORD_ADJUSTMENT - remainder)\n",
    "        if (coordinate / COORD_ADJUSTMENT) % 2 == 0:\n",
    "            coordinate -= COORD_ADJUSTMENT\n",
    "    else:\n",
    "        coordinate -= remainder\n",
    "        if (coordinate / COORD_ADJUSTMENT) % 2 == 0:\n",
    "            coordinate += COORD_ADJUSTMENT\n",
    "    return coordinate\n",
    "\n",
    "def runner(path, ed_user, ed_pass):\n",
    "    \"\"\"\n",
    "    Given path to time series of site hourly (or finer) input data,\n",
    "    compute daily ETo weighted footprint rasters. \n",
    "    Requires NASA Earthdata username and password to download NLDAS-v2\n",
    "    primary forcing at point locations for estimated ASCE short ref. ET.\n",
    "    \"\"\"\n",
    "    df, latitude, longitude = read_compiled_input(path)\n",
    "    station = path.stem\n",
    "    elevation = AMF_meta.loc[station, 'station_elevation']\n",
    "    station_coord = (longitude, latitude)\n",
    "    EPSG = EPSG_BASE - round((45 + latitude) / EPSG_CONV_FACTOR1) * 100 + round((183 + longitude) / EPSG_CONV_FACTOR2)\n",
    "    EPSG = int(EPSG)\n",
    "    in_proj = proj.Proj(init='EPSG:4326')\n",
    "    out_proj = proj.Proj(init=EPSG_OUT_INIT.format(EPSG))\n",
    "    (station_x,station_y) = proj.transform(in_proj,out_proj,*station_coord)\n",
    "    station_x = sanitize_coordinate(station_x)\n",
    "    station_y = sanitize_coordinate(station_y)\n",
    "    print('adjusted coordinates:',station_x,station_y)\n",
    "    # Other code remains the same...\n",
    "    "
   ],
   "metadata": {
    "collapsed": false
   }
  },
  {
   "cell_type": "code",
   "execution_count": null,
   "metadata": {},
   "outputs": [],
   "source": [
    "def runner(path, ed_user, ed_pass):\n",
    "    \"\"\"\n",
    "    Given path to time series of site hourly (or finer) input data,\n",
    "    compute daily ETo weighted footprint rasters. \n",
    "    \n",
    "    Requires NASA Earthdata username and password to download NLDAS-v2\n",
    "    primary forcing at point locations for estimated ASCE short ref. ET.\n",
    "    \"\"\"\n",
    "        \n",
    "    df, latitude, longitude = read_compiled_input(path)\n",
    "    station = path.stem\n",
    "    elevation = AMF_meta.loc[station, 'station_elevation']\n",
    "\n",
    "    station_coord = (longitude, latitude)\n",
    "    # get EPSG code from lat,long, convert to UTM\n",
    "    EPSG=32700-np.round((45+latitude)/90.0)*100+np.round((183+longitude)/6.0)\n",
    "    EPSG = int(EPSG)\n",
    "    in_proj = proj.Proj(init='EPSG:4326')\n",
    "    out_proj = proj.Proj(init='EPSG:{}'.format(EPSG))\n",
    "    (station_x,station_y) = proj.transform(in_proj,out_proj,*station_coord)\n",
    "    print('original coordinates:',station_x,station_y)\n",
    "    # move coord to snap centroid to 30m grid, minimal distortion\n",
    "    rx = station_x % 15\n",
    "    if rx > 7.5:\n",
    "        station_x += (15-rx)\n",
    "        # final coords should be odd factors of 15\n",
    "        if (station_x / 15) % 2 == 0:\n",
    "            station_x -= 15\n",
    "    else:    \n",
    "        station_x -= rx\n",
    "        if (station_x / 15) % 2 == 0:\n",
    "            station_x += 15\n",
    "            \n",
    "    ry = station_y % 15\n",
    "    if ry > 7.5:\n",
    "        print('ry > 7.5')\n",
    "        station_y += (15-ry )\n",
    "        if (station_y / 15) % 2 == 0:\n",
    "            station_y -= 15\n",
    "    else:\n",
    "        print('ry <= 7.5')\n",
    "        station_y -= ry\n",
    "        if (station_y / 15) % 2 == 0:\n",
    "            station_y += 15\n",
    "    print('adjusted coordinates:',station_x,station_y)\n",
    "\n",
    "    #Other model parameters\n",
    "    h_s = 2000. #Height of atmos. boundary layer [m] - assumed\n",
    "    dx = 30. #Model resolution [m]\n",
    "    origin_d = 300. #Model bounds distance from origin [m]\n",
    "    #modify if needed\n",
    "    start_hr = 6 # hours from 1 to 24\n",
    "    end_hr = 18\n",
    "    hours_zero_indexed = np.arange(start_hr-1,end_hr)\n",
    "    hours_one_indexed = np.arange(start_hr,end_hr+1)\n",
    "\n",
    "    n_hrs = len(hours_zero_indexed) \n",
    "\n",
    "    nldas_out_dir = Path('NLDAS_data')\n",
    "    if not nldas_out_dir.is_dir():\n",
    "        nldas_out_dir.mkdir(parents=True, exist_ok=True)\n",
    "\n",
    "    out_dir = Path('All_output')/'AMF'/f'{station}'\n",
    "\n",
    "    if not out_dir.is_dir():\n",
    "        out_dir.mkdir(parents=True, exist_ok=True)\n",
    "\n",
    "    #Loop through each day in the dataframe\n",
    "    for date in df.index.date:\n",
    "        #Subset dataframe to only values in day of year\n",
    "        print(f'Date: {date}')\n",
    "        temp_df = df[df.index.date == date]\n",
    "        temp_df=temp_df.between_time(f'{start_hr:02}:00', f'{end_hr:02}:00')\n",
    "        # check on n hours per day\n",
    "        if len(temp_df) < 5:\n",
    "            print(f'Less than 5 hours of data on {date}, skipping.')\n",
    "            continue\n",
    "            \n",
    "        new_dat = None\n",
    "\n",
    "        out_f = out_dir/ f'{date}.tif'\n",
    "\n",
    "        final_outf = out_dir/f'{date.year}-{date.month:02}-{date.day:02}_weighted.tif'\n",
    "        if final_outf.is_file():\n",
    "            print(f'final daily weighted footprint already wrote to: {final_outf}\\nskipping.')\n",
    "            continue # do not overwrite date/site raster \n",
    "\n",
    "        # make hourly band raster for the day\n",
    "        for indx, hour in enumerate(hours_zero_indexed):\n",
    "\n",
    "            band = indx + 1\n",
    "            print(f'Hour: {hour}')\n",
    "\n",
    "            try:\n",
    "                temp_line = temp_df.loc[temp_df.index.hour == hour,:]\n",
    "                if temp_line.empty: \n",
    "                    print(f'Missing all data for {date,hour} skipping')\n",
    "                    continue\n",
    "                zm = temp_line.zm.values - temp_line.d.values\n",
    "                z0 = temp_line.z0.values if 'z0' in temp_line.columns else None\n",
    "                u_mean = temp_line.u_mean.values if 'u_mean' in temp_line.columns else None\n",
    "                if u_mean is not None: z0 = None\n",
    "\n",
    "                #Calculate footprint\n",
    "                temp_ffp = ffp.ffp_climatology(domain=[-origin_d,origin_d,-origin_d,origin_d],dx=dx,dy=dx,\n",
    "                                        zm=zm, h=h_s, rs=None, z0=z0, \n",
    "                                        ol=temp_line['L'].values,sigmav=temp_line['sigma_v'].values,\n",
    "                                        ustar=temp_line['u_star'].values, umean=u_mean,\n",
    "                                        wind_dir=temp_line['wind_dir'].values,\n",
    "                                        crop=0,fig=0,verbosity=0)\n",
    "                f_2d = np.array(temp_ffp['fclim_2d'])\n",
    "                x_2d = np.array(temp_ffp['x_2d']) + station_x\n",
    "                y_2d = np.array(temp_ffp['y_2d']) + station_y\n",
    "                f_2d = f_2d*dx**2\n",
    "\n",
    "                #Calculate affine transform for given x_2d and y_2d\n",
    "                affine_transform = ff.find_transform(x_2d,y_2d)\n",
    "\n",
    "                #Create data file if not already created\n",
    "                if new_dat is None:\n",
    "                    #print(f_2d.shape)\n",
    "                    new_dat = rasterio.open(\n",
    "                        out_f,'w',driver='GTiff',dtype=rasterio.float64,\n",
    "                        count=n_hrs,height=f_2d.shape[0],width=f_2d.shape[1],\n",
    "                        transform=affine_transform, crs=out_proj.srs,\n",
    "                        nodata=0.00000000e+000\n",
    "                    )\n",
    "\n",
    "            except Exception as e:\n",
    "                print(f'Hour {hour} footprint failed, band {band} not written.')\n",
    "\n",
    "                temp_ffp = None\n",
    "\n",
    "                continue\n",
    "\n",
    "            #Mask out points that are below a % threshold (defaults to 90%)\n",
    "            f_2d = ff.mask_fp_cutoff(f_2d)\n",
    "\n",
    "            #Write the new band\n",
    "            new_dat.write(f_2d, indx+1)\n",
    "\n",
    "            #Update tags with metadata\n",
    "            tag_dict = {'hour':f'{hour*100:04}',\n",
    "                        'wind_dir':temp_line['wind_dir'].values,\n",
    "                        'total_footprint':np.nansum(f_2d)}\n",
    "\n",
    "            new_dat.update_tags(indx+1,**tag_dict)\n",
    "\n",
    "        #Close dataset if it exists\n",
    "        try:\n",
    "            new_dat.close()\n",
    "        except:\n",
    "            print(f'ERROR: could not write footprint for site: {station}:\\nto: {out_f}')\n",
    "            continue # skip to next day...\n",
    "\n",
    "        # for NLDAS data from pymetric\n",
    "        for hour in hours_zero_indexed:\n",
    "            #NLDAS version 2, primary forcing set (a), DOY must be 3 digit zero padded, HH 2-digit between 00-23, MM and DD also 2 digit\n",
    "            YYYY = date.year\n",
    "            DOY = date.timetuple().tm_yday\n",
    "            MM = date.month\n",
    "            DD = date.day\n",
    "            HH = hour\n",
    "\n",
    "            nldas_outf_path = nldas_out_dir / f'{YYYY}_{MM:02}_{DD:02}_{HH:02}.grb'\n",
    "            if nldas_outf_path.is_file():\n",
    "                print(f'{nldas_outf_path} already exists, not overwriting.')\n",
    "                pass\n",
    "                # do not overwrite!\n",
    "            else:\n",
    "                data_url = f'https://hydro1.gesdisc.eosdis.nasa.gov/data/NLDAS/NLDAS_FORA0125_H.002/{YYYY}/{DOY:03}/NLDAS_FORA0125_H.A{YYYY}{MM:02}{DD:02}.{HH:02}00.002.grb'\n",
    "                session = requests.Session()\n",
    "                r1 = session.request('get', data_url)\n",
    "                r = session.get(r1.url, stream=True, auth=(ed_user, ed_pass))\n",
    "\n",
    "                # write grib file temporarily\n",
    "                with open(nldas_outf_path, 'wb') as outf:\n",
    "                    for chunk in r.iter_content(chunk_size=1024 * 1024):\n",
    "                        if chunk:  # filter out keep-alive new chunks\n",
    "                            outf.write(chunk)\n",
    "\n",
    "\n",
    "        # get hourly time series of ETr and ETo, save\n",
    "        for hour in hours_zero_indexed:\n",
    "            #NLDAS version 2, primary forcing set (a), DOY must be 3 digit zero padded, HH 2-digit between 00-23, MM and DD also 2 digit\n",
    "            YYYY = date.year\n",
    "            DOY = date.timetuple().tm_yday\n",
    "            MM = date.month\n",
    "            DD = date.day\n",
    "            HH = hour\n",
    "            # already ensured to exist above loop\n",
    "            nldas_outf_path = nldas_out_dir / f'{YYYY}_{MM:02}_{DD:02}_{HH:02}.grb'\n",
    "            # open grib and extract needed data at nearest gridcell, calc ETr/ETo anf append to time series\n",
    "            ds = xarray.open_dataset(nldas_outf_path,engine='pynio').sel(lat_110=latitude, lon_110=longitude, method='nearest')\n",
    "            # calculate hourly ea from specific humidity\n",
    "            pair = ds.get('PRES_110_SFC').data / 1000 # nldas air pres in Pa convert to kPa\n",
    "            sph = ds.get('SPF_H_110_HTGL').data # kg/kg\n",
    "            ea = refet.calcs._actual_vapor_pressure(q=sph, pair=pair) # ea in kPa\n",
    "            # calculate hourly wind\n",
    "            wind_u = ds.get('U_GRD_110_HTGL').data\n",
    "            wind_v = ds.get('V_GRD_110_HTGL').data\n",
    "            wind = np.sqrt(wind_u ** 2 + wind_v ** 2)\n",
    "            # get temp convert to C\n",
    "            temp = ds.get('TMP_110_HTGL').data - 273.15\n",
    "            # get rs\n",
    "            rs = ds.get('DSWRF_110_SFC').data\n",
    "            unit_dict = {'rs': 'w/m2'}\n",
    "            # create refet object for calculating\n",
    "\n",
    "            refet_obj = refet.Hourly(\n",
    "                tmean=temp, ea=ea, rs=rs, uz=wind,\n",
    "                zw=zm, elev=elevation, lat=latitude, lon=longitude,\n",
    "                doy=DOY, time=HH, method='asce', input_units=unit_dict) #HH must be int\n",
    "\n",
    "            # this one is saved under the site_ID subdir\n",
    "            nldas_ts_outf = out_dir/ f'nldas_ETr.csv'\n",
    "            # save/append time series of point data\n",
    "            dt = pd.datetime(YYYY,MM,DD,HH)\n",
    "            ETr_df = pd.DataFrame(columns=['ETr','ETo','ea','sph','wind','pair','temp','rs'])\n",
    "            ETr_df.loc[dt, 'ETr'] = refet_obj.etr()[0]\n",
    "            ETr_df.loc[dt, 'ETo'] = refet_obj.eto()[0]\n",
    "            ETr_df.loc[dt, 'ea'] = ea[0]\n",
    "            ETr_df.loc[dt, 'sph'] = sph\n",
    "            ETr_df.loc[dt, 'wind'] = wind\n",
    "            ETr_df.loc[dt, 'pair'] = pair\n",
    "            ETr_df.loc[dt, 'temp'] = temp\n",
    "            ETr_df.loc[dt, 'rs'] = rs\n",
    "            ETr_df.index.name = 'date'\n",
    "\n",
    "            # if first run save file with individual datetime (hour data) else open and overwrite hour\n",
    "            if not nldas_ts_outf.is_file():\n",
    "                ETr_df.round(4).to_csv(nldas_ts_outf)\n",
    "            else:\n",
    "                curr_df = pd.read_csv(nldas_ts_outf, index_col='date', parse_dates=True)\n",
    "                curr_df.loc[dt] = ETr_df.loc[dt]\n",
    "                curr_df.round(4).to_csv(nldas_ts_outf)    \n",
    "\n",
    "        # do hourly weighting - do not necessarily need to do this all in the same loop\n",
    "        src = rasterio.open(out_f)\n",
    "        # hourly fetch scalar sums\n",
    "        global_sum = np.zeros(shape=(n_hrs))\n",
    "        for hour in range(1,n_hrs+1):\n",
    "            arr = src.read(hour)\n",
    "            global_sum[hour-1] = arr.sum()\n",
    "        # normalized fetch rasters\n",
    "        normed_fetch_rasters = [] \n",
    "        for hour in range(1,n_hrs+1):\n",
    "            arr = src.read(hour)\n",
    "            tmp = arr / global_sum[hour-1]\n",
    "            if np.isnan(tmp).all():\n",
    "                tmp = np.zeros_like(tmp)\n",
    "            normed_fetch_rasters.append(tmp)\n",
    "        # get NLDAS ts calc fraction of daily ETo\n",
    "        nldas_df = pd.read_csv(nldas_ts_outf, index_col='date', parse_dates=True).sort_index()\n",
    "        ETo = nldas_df.loc[nldas_df.index.date == date, 'ETo']\n",
    "        min_max_normed_ETo = (ETo-min(ETo))/(max(ETo)-min(ETo)) # deal with negative ETo value proportions\n",
    "        # take out hours where footprint does not exist\n",
    "        i = 0\n",
    "        for e, s in zip(min_max_normed_ETo.values, global_sum):\n",
    "            if s == 0:\n",
    "                min_max_normed_ETo.iloc[i] = 0\n",
    "            i+=1\n",
    "        # after removing hours now calculate hourly proportions\n",
    "        nldas_df.loc[nldas_df.index.date == date, 'ETo_hr_props'] = min_max_normed_ETo / min_max_normed_ETo.sum()\n",
    "        # weight normed hourly fetch rasters by hourly ETo proportions\n",
    "        for i,hour in enumerate(hours_zero_indexed): # everything here is hours 0-23\n",
    "            normed_fetch_rasters[i] =\\\n",
    "                normed_fetch_rasters[i]*nldas_df.loc[\n",
    "                    (nldas_df.index.date == date) & (nldas_df.index.hour == hour), 'ETo_hr_props'\n",
    "            ].values[0]\n",
    "        # save hourly proportions to time series file\n",
    "        nldas_df.round(4).to_csv(nldas_ts_outf)\n",
    "\n",
    "        # Last calculation, sum the weighted hourly rasters to a single daily fetch raster\n",
    "        final_footprint = sum(normed_fetch_rasters)\n",
    "        assert np.isclose(final_footprint.sum(), 1), f'check 1 failed! {final_footprint.sum()}\\n{temp_line}'\n",
    "        # next check\n",
    "        for hour, raster in enumerate(normed_fetch_rasters):\n",
    "            assert np.isclose(\n",
    "                nldas_df.loc[\n",
    "                    (nldas_df.index.date == date) & (nldas_df.index.hour == hour+start_hr-1), 'ETo_hr_props'\n",
    "                ].values[0], raster.sum()\n",
    "            ), f'check 2 failed for hour {hour+start_hr-1}!!!'\n",
    "\n",
    "        # finally, write daily corrected raster with UTM zone reference \n",
    "        corr_raster_path = final_outf\n",
    "        out_raster = rasterio.open(\n",
    "            corr_raster_path,'w',driver='GTiff',dtype=rasterio.float64,\n",
    "            count=1,height=final_footprint.shape[0],width=final_footprint.shape[1],\n",
    "            transform=src.transform, crs=out_proj.srs, nodata=0.00000000e+000\n",
    "        )\n",
    "        out_raster.write(final_footprint,1)\n",
    "        out_raster.close()\n",
    "        \n"
   ]
  },
  {
   "cell_type": "code",
   "execution_count": null,
   "metadata": {},
   "outputs": [],
   "source": [
    "pool = mp.Pool(processes=8)\n",
    "pool.map(runner,hourly_files)"
   ]
  }
 ],
 "metadata": {
  "kernelspec": {
   "display_name": "Python 3",
   "language": "python",
   "name": "python3"
  },
  "language_info": {
   "codemirror_mode": {
    "name": "ipython",
    "version": 3
   },
   "file_extension": ".py",
   "mimetype": "text/x-python",
   "name": "python",
   "nbconvert_exporter": "python",
   "pygments_lexer": "ipython3",
   "version": "3.8.0"
  }
 },
 "nbformat": 4,
 "nbformat_minor": 2
}
