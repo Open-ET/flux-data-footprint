{
 "cells": [
  {
   "cell_type": "markdown",
   "metadata": {},
   "source": [
    "# Example using an AmeriFlux site and the ``flux-data-qaqc`` Python module"
   ]
  },
  {
   "cell_type": "markdown",
   "source": [
    "This flux tower site is in Ohio near Lake Erie in a crop (wheat and soy) setting near a marsh. For more information on the site visit AmeriFlux here: [https://ameriflux.lbl.gov/sites/siteinfo/US-CRT#overview](https://ameriflux.lbl.gov/sites/siteinfo/US-CRT#overview)"
   ],
   "metadata": {
    "collapsed": false
   }
  },
  {
   "cell_type": "code",
   "execution_count": 5,
   "metadata": {
    "ExecuteTime": {
     "end_time": "2024-03-31T22:41:50.258799300Z",
     "start_time": "2024-03-31T22:41:28.626905400Z"
    }
   },
   "outputs": [],
   "source": [
    "%matplotlib inline\n",
    "import os\n",
    "import utm\n",
    "import numpy as np\n",
    "import pandas as pd\n",
    "import rasterio\n",
    "import matplotlib.pyplot as plt\n",
    "import pyproj\n",
    "from fluxdataqaqc import Data\n",
    "from rasterio.plot import show"
   ]
  },
  {
   "cell_type": "code",
   "outputs": [],
   "source": [
    "import sys\n",
    "sys.path.append(\"../../scripts/\") \n",
    "import calc_footprint_FFP_climatology as ffp\n",
    "import footprint_funcs as ff"
   ],
   "metadata": {
    "collapsed": false,
    "ExecuteTime": {
     "end_time": "2024-03-31T22:41:58.098380100Z",
     "start_time": "2024-03-31T22:41:50.260808500Z"
    }
   },
   "execution_count": 6
  },
  {
   "cell_type": "markdown",
   "metadata": {},
   "source": [
    "# Read in data using ``flux-data-qaqc``, resample to hourly "
   ]
  },
  {
   "cell_type": "markdown",
   "source": [
    "Note that some wind variables are not excplicitly required by ``flux-data-qaqc``, i.e. not automatically referenced in the config and objects, to load them here we added the ``load_all_vars`` metadata option and refer to them by their respective names in the climate data file \"AMF_US-CRT_BASE_HH_3-5.csv\". In this case these variables are Monin-Obukhov length \"MO_LENGTH\", standard deviation of lateral velocity fluctuations \"V_SIGMA\", and friction velocity \"USTAR\". "
   ],
   "metadata": {
    "collapsed": false
   }
  },
  {
   "cell_type": "code",
   "execution_count": 7,
   "metadata": {
    "ExecuteTime": {
     "end_time": "2024-03-31T22:41:59.164440600Z",
     "start_time": "2024-03-31T22:41:58.101387400Z"
    }
   },
   "outputs": [
    {
     "name": "stderr",
     "output_type": "stream",
     "text": [
      "C:\\Users\\paulinkenbrandt\\Anaconda3\\envs\\pygis311v3\\Lib\\site-packages\\fluxdataqaqc\\data.py:1123: FutureWarning: The argument 'date_parser' is deprecated and will be removed in a future version. Please use 'date_format' instead, or read your data in as 'object' dtype and then call 'to_datetime'.\n",
      "  df = pd.read_csv(\n"
     ]
    },
    {
     "name": "stdout",
     "output_type": "stream",
     "text": [
      "WARNING: renaming column LE to input_LE\n",
      "WARNING: renaming column H to input_H\n",
      "WARNING: vpd variable in column VPD_PI is missing all data it will be removed\n",
      "WARNING: theta_1 variable in column SWC_PI_1 is missing all data it will be removed\n",
      "WARNING: theta_2 variable in column SWC_PI_2 is missing all data it will be removed\n"
     ]
    }
   ],
   "source": [
    "d = Data('US-CRT_config.ini')\n",
    "\n",
    "d.variables['MO_LENGTH'] = 'MO_LENGTH'\n",
    "d.variables['USTAR'] = 'USTAR'\n",
    "d.variables['V_SIGMA'] = 'V_SIGMA'\n",
    "\n",
    "df = d.df.rename(columns=d.inv_map)\n",
    "df = df.resample('H').mean()"
   ]
  },
  {
   "cell_type": "code",
   "execution_count": 8,
   "metadata": {
    "ExecuteTime": {
     "end_time": "2024-03-31T22:42:05.894759700Z",
     "start_time": "2024-03-31T22:42:05.865765Z"
    }
   },
   "outputs": [
    {
     "data": {
      "text/plain": "                           wd       ws  MO_LENGTH    USTAR   V_SIGMA\ndate                                                                \n2011-01-01 00:00:00       NaN      NaN        NaN      NaN       NaN\n2011-01-01 01:00:00       NaN      NaN        NaN      NaN       NaN\n2011-01-01 02:00:00  254.7010  3.11869  69.337979  0.27374  1.375590\n2011-01-01 03:00:00  232.3775  4.27658  76.689723  0.27932  0.979255\n2011-01-01 04:00:00       NaN      NaN        NaN      NaN       NaN",
      "text/html": "<div>\n<style scoped>\n    .dataframe tbody tr th:only-of-type {\n        vertical-align: middle;\n    }\n\n    .dataframe tbody tr th {\n        vertical-align: top;\n    }\n\n    .dataframe thead th {\n        text-align: right;\n    }\n</style>\n<table border=\"1\" class=\"dataframe\">\n  <thead>\n    <tr style=\"text-align: right;\">\n      <th></th>\n      <th>wd</th>\n      <th>ws</th>\n      <th>MO_LENGTH</th>\n      <th>USTAR</th>\n      <th>V_SIGMA</th>\n    </tr>\n    <tr>\n      <th>date</th>\n      <th></th>\n      <th></th>\n      <th></th>\n      <th></th>\n      <th></th>\n    </tr>\n  </thead>\n  <tbody>\n    <tr>\n      <th>2011-01-01 00:00:00</th>\n      <td>NaN</td>\n      <td>NaN</td>\n      <td>NaN</td>\n      <td>NaN</td>\n      <td>NaN</td>\n    </tr>\n    <tr>\n      <th>2011-01-01 01:00:00</th>\n      <td>NaN</td>\n      <td>NaN</td>\n      <td>NaN</td>\n      <td>NaN</td>\n      <td>NaN</td>\n    </tr>\n    <tr>\n      <th>2011-01-01 02:00:00</th>\n      <td>254.7010</td>\n      <td>3.11869</td>\n      <td>69.337979</td>\n      <td>0.27374</td>\n      <td>1.375590</td>\n    </tr>\n    <tr>\n      <th>2011-01-01 03:00:00</th>\n      <td>232.3775</td>\n      <td>4.27658</td>\n      <td>76.689723</td>\n      <td>0.27932</td>\n      <td>0.979255</td>\n    </tr>\n    <tr>\n      <th>2011-01-01 04:00:00</th>\n      <td>NaN</td>\n      <td>NaN</td>\n      <td>NaN</td>\n      <td>NaN</td>\n      <td>NaN</td>\n    </tr>\n  </tbody>\n</table>\n</div>"
     },
     "execution_count": 8,
     "metadata": {},
     "output_type": "execute_result"
    }
   ],
   "source": [
    "df[['wd','ws','MO_LENGTH','USTAR','V_SIGMA']].head()"
   ]
  },
  {
   "cell_type": "markdown",
   "metadata": {},
   "source": [
    "# Convert station lat/lon to local UTM for georeferencing"
   ]
  },
  {
   "cell_type": "code",
   "execution_count": 9,
   "metadata": {
    "ExecuteTime": {
     "end_time": "2024-03-31T22:42:09.095809100Z",
     "start_time": "2024-03-31T22:42:09.057644600Z"
    }
   },
   "outputs": [],
   "source": [
    "latitude = d.latitude\n",
    "longitude = d.longitude\n",
    "station_coord = (latitude, longitude)\n",
    "# get EPSG code from lat,long, convert to UTM https://epsg.io/32617\n",
    "EPSG=32700-np.round((45+latitude)/90.0)*100+np.round((-183+longitude)/6.0)\n",
    "\n",
    "utm_coords = utm.from_latlon(latitude, longitude)\n",
    "\n",
    "transformer = pyproj.Transformer.from_crs(\"EPSG:4326\", f\"EPSG:{EPSG:.0f}\")\n",
    "(station_y, station_x) = transformer.transform(*station_coord)\n",
    "station = d.site_id"
   ]
  },
  {
   "cell_type": "code",
   "outputs": [
    {
     "data": {
      "text/plain": "(23555013.830561325, 5151767.43728429)"
     },
     "execution_count": 10,
     "metadata": {},
     "output_type": "execute_result"
    }
   ],
   "source": [
    "station_x,station_y"
   ],
   "metadata": {
    "collapsed": false,
    "ExecuteTime": {
     "end_time": "2024-03-31T22:42:10.301002400Z",
     "start_time": "2024-03-31T22:42:10.261827700Z"
    }
   },
   "execution_count": 10
  },
  {
   "cell_type": "markdown",
   "metadata": {},
   "source": [
    "# Estimate remaining parameters and create daily footprint rasters with hourly footprints as bands\n",
    "\n",
    "A few assumptions, the canopy height of 0.2 meters is constant, this site according to the owners is winter wheat and soybean rotation. Displacement height was not given but estimated for cropland as $d = 10^{0.979 \\log_{10} hc - 0.154}$. Also, planetary boundary layer height was assigned as 2 km. Roughness length was also estimated as $0.123 h_c$. The footprints in this example are only calculated for hours between 7 AM and 8 PM, this alongwith footprint array domain, resolution, and other options are all easily adjustable using the arguments to the Kljun et al. footprint function. "
   ]
  },
  {
   "cell_type": "code",
   "execution_count": 11,
   "metadata": {
    "ExecuteTime": {
     "end_time": "2024-03-31T22:42:12.197456Z",
     "start_time": "2024-03-31T22:42:12.188605800Z"
    }
   },
   "outputs": [
    {
     "data": {
      "text/plain": "0.14511368335719918"
     },
     "execution_count": 11,
     "metadata": {},
     "output_type": "execute_result"
    }
   ],
   "source": [
    "h_c = 0.2 #Height of canopy [m]\n",
    "# Estimated displacement height [m]\n",
    "d = 10**(0.979* np.log10(h_c) - 0.154)\n",
    "d"
   ]
  },
  {
   "cell_type": "code",
   "outputs": [],
   "source": [
    "#Loop through each day in the dataframe\n",
    "for date in df.index.date:\n",
    "    \n",
    "    #Subset dataframe to only values in day of year\n",
    "    print(f'Date: {date}')\n",
    "    temp_df = df[df.index.date == date]\n",
    "        \n",
    "    new_dat = None\n",
    "    \n",
    "    for indx,t in enumerate(hours):\n",
    "        \n",
    "        band = indx + 1\n",
    "        print(f'Hour: {t}')\n",
    "\n",
    "        try:\n",
    "            temp_line = temp_df.loc[temp_df.index.hour == t,:]"
   ],
   "metadata": {
    "collapsed": false
   }
  },
  {
   "cell_type": "code",
   "outputs": [],
   "source": [
    "def ffp_to_rasterio(temp_df, t, origin_d=300., dx=30, h_s=2000, h_c = 0.2, new_dat = None):\n",
    "        # Other model parameters modify if needed\n",
    "        # h_s Height of atmos. boundary layer [m] - assumed\n",
    "        # dx Model resolution [m]\n",
    "        # origin_d Model bounds distance from origin [m]\n",
    "        start_hr = 6  # hours from 1 to 24\n",
    "        end_hr = 18\n",
    "        #zm_s #Measurement height [m] from AMF metadata\n",
    "        #Height of canopy [m]\n",
    "        # Estimated displacement height [m]\n",
    "        d = 10**(0.979* np.log10(h_c) - 0.154)\n",
    "        \n",
    "        temp_line = temp_df.loc[temp_df.index.hour == t,:]\n",
    "\n",
    "        #zm = temp_line.zm.values - temp_line.d.values\n",
    "        #z0 = temp_line.z0.values if 'z0' in temp_line.columns else None\n",
    "        #u_mean = temp_line.u_mean.values if 'u_mean' in temp_line.columns else None\n",
    "\n",
    "        #Calculate footprint\n",
    "        # Calculate footprint\n",
    "        temp_ffp = ffp.ffp_climatology(domain=[-origin_d,origin_d,-origin_d,origin_d],dx=dx,dy=dx,\n",
    "                                zm=zm_s-d, h=h_s, rs=None, z0=h_c*.123, \n",
    "                                ol=temp_line['MO_LENGTH'].values,sigmav=temp_line['V_SIGMA'].values,\n",
    "                                ustar=temp_line['USTAR'].values, #umean=temp_line['ws'].values,\n",
    "                                wind_dir=temp_line['wd'].values,\n",
    "                                crop=0,fig=0,verbosity=0)\n",
    "        ####verbosoity=2 prints out errors; if z0 triggers errors, use umean\n",
    "        #    print(zm_s-d)\n",
    "\n",
    "        f_2d = np.array(temp_ffp['fclim_2d'])\n",
    "        x_2d = np.array(temp_ffp['x_2d']) + station_x\n",
    "        y_2d = np.array(temp_ffp['y_2d']) + station_y\n",
    "        f_2d = f_2d*dx**2\n",
    "\n",
    "        #Calculate affine transform for given x_2d and y_2d\n",
    "        affine_transform = ff.find_transform(x_2d,y_2d)\n",
    "\n",
    "        #Create data file if not already created\n",
    "        if new_dat is None:\n",
    "            out_f = f'./{date}_{t:02}_{station}.tif'\n",
    "            #print(f_2d.shape)\n",
    "            new_dat = rasterio.open(out_f,'w',driver='GTiff',dtype=rasterio.float64,\n",
    "                                    count=len(hours),height=f_2d.shape[0],width=f_2d.shape[1],\n",
    "                                    transform=affine_transform,\n",
    "                                    crs=pyproj.crs.CRS.from_epsg(int(EPSG)),\n",
    "                                    nodata=0.00000000e+000)\n",
    "        return new_dat, f_2d, x_2d, y_2d"
   ],
   "metadata": {
    "collapsed": false,
    "ExecuteTime": {
     "end_time": "2024-03-31T23:13:30.864490700Z",
     "start_time": "2024-03-31T23:13:30.834711900Z"
    }
   },
   "execution_count": 27
  },
  {
   "cell_type": "code",
   "outputs": [
    {
     "data": {
      "text/plain": "2"
     },
     "execution_count": 28,
     "metadata": {},
     "output_type": "execute_result"
    }
   ],
   "source": [
    "indx"
   ],
   "metadata": {
    "collapsed": false,
    "ExecuteTime": {
     "end_time": "2024-03-31T23:13:39.288462600Z",
     "start_time": "2024-03-31T23:13:39.275094Z"
    }
   },
   "execution_count": 28
  },
  {
   "cell_type": "code",
   "outputs": [],
   "source": [
    "new_dat = ffp_to_rasterio(temp_df, t, origin_d=300., dx=30, h_s=2000, h_c = 0.2, new_dat = None)"
   ],
   "metadata": {
    "collapsed": false,
    "ExecuteTime": {
     "end_time": "2024-03-31T23:13:44.943965500Z",
     "start_time": "2024-03-31T23:13:43.739461100Z"
    }
   },
   "execution_count": 29
  },
  {
   "cell_type": "code",
   "execution_count": 30,
   "metadata": {
    "ExecuteTime": {
     "end_time": "2024-03-31T23:14:11.683982Z",
     "start_time": "2024-03-31T23:14:05.044787600Z"
    }
   },
   "outputs": [
    {
     "name": "stdout",
     "output_type": "stream",
     "text": [
      "Date: 2011-01-01\n",
      "Hour: 7\n",
      "Hour: 8\n",
      "Hour: 9\n",
      "Hour: 10\n",
      "Hour: 11\n",
      "Hour: 12\n"
     ]
    },
    {
     "ename": "IndexError",
     "evalue": "arrays used as indices must be of integer (or boolean) type",
     "output_type": "error",
     "traceback": [
      "\u001B[1;31m---------------------------------------------------------------------------\u001B[0m",
      "\u001B[1;31mIndexError\u001B[0m                                Traceback (most recent call last)",
      "Cell \u001B[1;32mIn[30], line 28\u001B[0m\n\u001B[0;32m     23\u001B[0m \u001B[38;5;28mprint\u001B[39m(\u001B[38;5;124mf\u001B[39m\u001B[38;5;124m'\u001B[39m\u001B[38;5;124mHour: \u001B[39m\u001B[38;5;132;01m{\u001B[39;00mt\u001B[38;5;132;01m}\u001B[39;00m\u001B[38;5;124m'\u001B[39m)\n\u001B[0;32m     25\u001B[0m \u001B[38;5;66;03m#try:\u001B[39;00m\n\u001B[0;32m     26\u001B[0m \u001B[38;5;66;03m#    temp_line = temp_df.loc[temp_df.index.hour == t,:]\u001B[39;00m\n\u001B[1;32m---> 28\u001B[0m new_dat, f_2d, x_2d, y_2d \u001B[38;5;241m=\u001B[39m \u001B[43mffp_to_rasterio\u001B[49m\u001B[43m(\u001B[49m\u001B[43mtemp_df\u001B[49m\u001B[43m,\u001B[49m\u001B[43m \u001B[49m\u001B[43mt\u001B[49m\u001B[43m,\u001B[49m\u001B[43m \u001B[49m\u001B[43morigin_d\u001B[49m\u001B[38;5;241;43m=\u001B[39;49m\u001B[38;5;241;43m300.\u001B[39;49m\u001B[43m,\u001B[49m\u001B[43m \u001B[49m\u001B[43mdx\u001B[49m\u001B[38;5;241;43m=\u001B[39;49m\u001B[38;5;241;43m30\u001B[39;49m\u001B[43m,\u001B[49m\u001B[43m \u001B[49m\u001B[43mh_s\u001B[49m\u001B[38;5;241;43m=\u001B[39;49m\u001B[38;5;241;43m2000\u001B[39;49m\u001B[43m,\u001B[49m\u001B[43m \u001B[49m\u001B[43mh_c\u001B[49m\u001B[43m \u001B[49m\u001B[38;5;241;43m=\u001B[39;49m\u001B[43m \u001B[49m\u001B[38;5;241;43m0.2\u001B[39;49m\u001B[43m,\u001B[49m\u001B[43m \u001B[49m\u001B[43mnew_dat\u001B[49m\u001B[43m \u001B[49m\u001B[38;5;241;43m=\u001B[39;49m\u001B[43m \u001B[49m\u001B[38;5;28;43;01mNone\u001B[39;49;00m\u001B[43m)\u001B[49m\n\u001B[0;32m     29\u001B[0m \u001B[38;5;66;03m#except Exception as e:\u001B[39;00m\n\u001B[0;32m     30\u001B[0m     \n\u001B[0;32m     31\u001B[0m \u001B[38;5;66;03m#    print(f'Hour {t} footprint failed, band {band} not written.')\u001B[39;00m\n\u001B[1;32m   (...)\u001B[0m\n\u001B[0;32m     36\u001B[0m \n\u001B[0;32m     37\u001B[0m \u001B[38;5;66;03m#Mask out points that are below a % threshold (defaults to 90%)\u001B[39;00m\n\u001B[0;32m     38\u001B[0m f_2d \u001B[38;5;241m=\u001B[39m ff\u001B[38;5;241m.\u001B[39mmask_fp_cutoff(f_2d)\n",
      "Cell \u001B[1;32mIn[27], line 21\u001B[0m, in \u001B[0;36mffp_to_rasterio\u001B[1;34m(temp_df, t, origin_d, dx, h_s, h_c, new_dat)\u001B[0m\n\u001B[0;32m     13\u001B[0m temp_line \u001B[38;5;241m=\u001B[39m temp_df\u001B[38;5;241m.\u001B[39mloc[temp_df\u001B[38;5;241m.\u001B[39mindex\u001B[38;5;241m.\u001B[39mhour \u001B[38;5;241m==\u001B[39m t,:]\n\u001B[0;32m     15\u001B[0m \u001B[38;5;66;03m#zm = temp_line.zm.values - temp_line.d.values\u001B[39;00m\n\u001B[0;32m     16\u001B[0m \u001B[38;5;66;03m#z0 = temp_line.z0.values if 'z0' in temp_line.columns else None\u001B[39;00m\n\u001B[0;32m     17\u001B[0m \u001B[38;5;66;03m#u_mean = temp_line.u_mean.values if 'u_mean' in temp_line.columns else None\u001B[39;00m\n\u001B[0;32m     18\u001B[0m \n\u001B[0;32m     19\u001B[0m \u001B[38;5;66;03m#Calculate footprint\u001B[39;00m\n\u001B[0;32m     20\u001B[0m \u001B[38;5;66;03m# Calculate footprint\u001B[39;00m\n\u001B[1;32m---> 21\u001B[0m temp_ffp \u001B[38;5;241m=\u001B[39m \u001B[43mffp\u001B[49m\u001B[38;5;241;43m.\u001B[39;49m\u001B[43mffp_climatology\u001B[49m\u001B[43m(\u001B[49m\u001B[43mdomain\u001B[49m\u001B[38;5;241;43m=\u001B[39;49m\u001B[43m[\u001B[49m\u001B[38;5;241;43m-\u001B[39;49m\u001B[43morigin_d\u001B[49m\u001B[43m,\u001B[49m\u001B[43morigin_d\u001B[49m\u001B[43m,\u001B[49m\u001B[38;5;241;43m-\u001B[39;49m\u001B[43morigin_d\u001B[49m\u001B[43m,\u001B[49m\u001B[43morigin_d\u001B[49m\u001B[43m]\u001B[49m\u001B[43m,\u001B[49m\u001B[43mdx\u001B[49m\u001B[38;5;241;43m=\u001B[39;49m\u001B[43mdx\u001B[49m\u001B[43m,\u001B[49m\u001B[43mdy\u001B[49m\u001B[38;5;241;43m=\u001B[39;49m\u001B[43mdx\u001B[49m\u001B[43m,\u001B[49m\n\u001B[0;32m     22\u001B[0m \u001B[43m                        \u001B[49m\u001B[43mzm\u001B[49m\u001B[38;5;241;43m=\u001B[39;49m\u001B[43mzm_s\u001B[49m\u001B[38;5;241;43m-\u001B[39;49m\u001B[43md\u001B[49m\u001B[43m,\u001B[49m\u001B[43m \u001B[49m\u001B[43mh\u001B[49m\u001B[38;5;241;43m=\u001B[39;49m\u001B[43mh_s\u001B[49m\u001B[43m,\u001B[49m\u001B[43m \u001B[49m\u001B[43mrs\u001B[49m\u001B[38;5;241;43m=\u001B[39;49m\u001B[38;5;28;43;01mNone\u001B[39;49;00m\u001B[43m,\u001B[49m\u001B[43m \u001B[49m\u001B[43mz0\u001B[49m\u001B[38;5;241;43m=\u001B[39;49m\u001B[43mh_c\u001B[49m\u001B[38;5;241;43m*\u001B[39;49m\u001B[38;5;241;43m.123\u001B[39;49m\u001B[43m,\u001B[49m\u001B[43m \u001B[49m\n\u001B[0;32m     23\u001B[0m \u001B[43m                        \u001B[49m\u001B[43mol\u001B[49m\u001B[38;5;241;43m=\u001B[39;49m\u001B[43mtemp_line\u001B[49m\u001B[43m[\u001B[49m\u001B[38;5;124;43m'\u001B[39;49m\u001B[38;5;124;43mMO_LENGTH\u001B[39;49m\u001B[38;5;124;43m'\u001B[39;49m\u001B[43m]\u001B[49m\u001B[38;5;241;43m.\u001B[39;49m\u001B[43mvalues\u001B[49m\u001B[43m,\u001B[49m\u001B[43msigmav\u001B[49m\u001B[38;5;241;43m=\u001B[39;49m\u001B[43mtemp_line\u001B[49m\u001B[43m[\u001B[49m\u001B[38;5;124;43m'\u001B[39;49m\u001B[38;5;124;43mV_SIGMA\u001B[39;49m\u001B[38;5;124;43m'\u001B[39;49m\u001B[43m]\u001B[49m\u001B[38;5;241;43m.\u001B[39;49m\u001B[43mvalues\u001B[49m\u001B[43m,\u001B[49m\n\u001B[0;32m     24\u001B[0m \u001B[43m                        \u001B[49m\u001B[43mustar\u001B[49m\u001B[38;5;241;43m=\u001B[39;49m\u001B[43mtemp_line\u001B[49m\u001B[43m[\u001B[49m\u001B[38;5;124;43m'\u001B[39;49m\u001B[38;5;124;43mUSTAR\u001B[39;49m\u001B[38;5;124;43m'\u001B[39;49m\u001B[43m]\u001B[49m\u001B[38;5;241;43m.\u001B[39;49m\u001B[43mvalues\u001B[49m\u001B[43m,\u001B[49m\u001B[43m \u001B[49m\u001B[38;5;66;43;03m#umean=temp_line['ws'].values,\u001B[39;49;00m\n\u001B[0;32m     25\u001B[0m \u001B[43m                        \u001B[49m\u001B[43mwind_dir\u001B[49m\u001B[38;5;241;43m=\u001B[39;49m\u001B[43mtemp_line\u001B[49m\u001B[43m[\u001B[49m\u001B[38;5;124;43m'\u001B[39;49m\u001B[38;5;124;43mwd\u001B[39;49m\u001B[38;5;124;43m'\u001B[39;49m\u001B[43m]\u001B[49m\u001B[38;5;241;43m.\u001B[39;49m\u001B[43mvalues\u001B[49m\u001B[43m,\u001B[49m\n\u001B[0;32m     26\u001B[0m \u001B[43m                        \u001B[49m\u001B[43mcrop\u001B[49m\u001B[38;5;241;43m=\u001B[39;49m\u001B[38;5;241;43m0\u001B[39;49m\u001B[43m,\u001B[49m\u001B[43mfig\u001B[49m\u001B[38;5;241;43m=\u001B[39;49m\u001B[38;5;241;43m0\u001B[39;49m\u001B[43m,\u001B[49m\u001B[43mverbosity\u001B[49m\u001B[38;5;241;43m=\u001B[39;49m\u001B[38;5;241;43m0\u001B[39;49m\u001B[43m)\u001B[49m\n\u001B[0;32m     27\u001B[0m \u001B[38;5;66;03m####verbosoity=2 prints out errors; if z0 triggers errors, use umean\u001B[39;00m\n\u001B[0;32m     28\u001B[0m \u001B[38;5;66;03m#    print(zm_s-d)\u001B[39;00m\n\u001B[0;32m     30\u001B[0m f_2d \u001B[38;5;241m=\u001B[39m np\u001B[38;5;241m.\u001B[39marray(temp_ffp[\u001B[38;5;124m'\u001B[39m\u001B[38;5;124mfclim_2d\u001B[39m\u001B[38;5;124m'\u001B[39m])\n",
      "File \u001B[1;32m~\\PycharmProjects\\flux-data-footprint\\scripts\\calc_footprint_FFP_climatology.py:349\u001B[0m, in \u001B[0;36mffp_climatology\u001B[1;34m(zm, z0, umean, h, ol, sigmav, ustar, wind_dir, domain, dx, dy, nx, ny, rs, rslayer, smooth_data, crop, pulse, verbosity, fig, **kwargs)\u001B[0m\n\u001B[0;32m    346\u001B[0m \u001B[38;5;66;03m# ===========================================================================\u001B[39;00m\n\u001B[0;32m    347\u001B[0m \u001B[38;5;66;03m# Calculate dummy for scaled sig_y* and real scale sig_y\u001B[39;00m\n\u001B[0;32m    348\u001B[0m sigystar_dummy \u001B[38;5;241m=\u001B[39m np\u001B[38;5;241m.\u001B[39mzeros(x_2d\u001B[38;5;241m.\u001B[39mshape)\n\u001B[1;32m--> 349\u001B[0m sigystar_dummy[px] \u001B[38;5;241m=\u001B[39m (ac \u001B[38;5;241m*\u001B[39m np\u001B[38;5;241m.\u001B[39msqrt(bc \u001B[38;5;241m*\u001B[39m np\u001B[38;5;241m.\u001B[39mabs(\u001B[43mxstar_ci_dummy\u001B[49m\u001B[43m[\u001B[49m\u001B[43mpx\u001B[49m\u001B[43m]\u001B[49m) \u001B[38;5;241m*\u001B[39m\u001B[38;5;241m*\u001B[39m \u001B[38;5;241m2\u001B[39m \u001B[38;5;241m/\u001B[39m (\u001B[38;5;241m1\u001B[39m \u001B[38;5;241m+\u001B[39m\n\u001B[0;32m    350\u001B[0m                                                                            cc \u001B[38;5;241m*\u001B[39m np\u001B[38;5;241m.\u001B[39mabs(\n\u001B[0;32m    351\u001B[0m             xstar_ci_dummy[px]))))\n\u001B[0;32m    353\u001B[0m \u001B[38;5;28;01mif\u001B[39;00m \u001B[38;5;28mabs\u001B[39m(ol) \u001B[38;5;241m>\u001B[39m oln:\n\u001B[0;32m    354\u001B[0m     ol \u001B[38;5;241m=\u001B[39m \u001B[38;5;241m-\u001B[39m\u001B[38;5;241m1E6\u001B[39m\n",
      "\u001B[1;31mIndexError\u001B[0m: arrays used as indices must be of integer (or boolean) type"
     ]
    }
   ],
   "source": [
    "#Other model parameters\n",
    "zm_s = 2. #Measurement height [m] from AMF metadata\n",
    "h_s = 2000. #Height of atmos. boundary layer [m] - assumed\n",
    "dx = 3. #Model resolution [m]\n",
    "origin_d = 200. #Model bounds distance from origin [m]\n",
    "# from 7 AM to 8 PM only, modify if needed\n",
    "start_hr = 7\n",
    "end_hr = 20\n",
    "hours = np.arange(start_hr,end_hr+1)\n",
    "\n",
    "#Loop through each day in the dataframe\n",
    "for date in df.index.date:\n",
    "    \n",
    "    #Subset dataframe to only values in day of year\n",
    "    print(f'Date: {date}')\n",
    "    temp_df = df[df.index.date == date]\n",
    "        \n",
    "    new_dat = None\n",
    "    \n",
    "    for indx,t in enumerate(hours):\n",
    "        \n",
    "        band = indx + 1\n",
    "        print(f'Hour: {t}')\n",
    "\n",
    "        #try:\n",
    "        #    temp_line = temp_df.loc[temp_df.index.hour == t,:]\n",
    "\n",
    "        new_dat, f_2d, x_2d, y_2d = ffp_to_rasterio(temp_df, t, origin_d=300., dx=30, h_s=2000, h_c = 0.2, new_dat = None)\n",
    "        #except Exception as e:\n",
    "            \n",
    "        #    print(f'Hour {t} footprint failed, band {band} not written.')\n",
    "\n",
    "        #    temp_ffp = None\n",
    "\n",
    "        #    continue\n",
    "\n",
    "        #Mask out points that are below a % threshold (defaults to 90%)\n",
    "        f_2d = ff.mask_fp_cutoff(f_2d)\n",
    "\n",
    "        #Write the new band\n",
    "        new_dat.write(f_2d,indx+1)\n",
    "\n",
    "        #Update tags with metadata\n",
    "        tag_dict = {'hour':f'{t*100:04}',\n",
    "                    'wind_dir':temp_line['wd'].values,\n",
    "                    'total_footprint':np.nansum(f_2d)}\n",
    "\n",
    "        new_dat.update_tags(indx+1,**tag_dict)\n",
    "    \n",
    "    #Close dataset if it exists\n",
    "    try:\n",
    "        new_dat.close()\n",
    "    except:\n",
    "        continue\n",
    "    \n",
    "    print()\n",
    "    \n",
    "    # for esample just create a single day and exit\n",
    "    break\n",
    "    "
   ]
  },
  {
   "cell_type": "markdown",
   "metadata": {},
   "source": [
    "# View footprint raster\n",
    "\n",
    "First plot shows georeferenced (UTM zone 17) footprint (first bad at 7:00 AM) and the plot below shows a different hour, the third plot shows the daily average using matplotlib. Not the second two plots are not georefenced and the axes are in pixel count."
   ]
  },
  {
   "cell_type": "code",
   "execution_count": 9,
   "metadata": {
    "ExecuteTime": {
     "end_time": "2024-03-31T03:03:04.287042900Z",
     "start_time": "2024-03-31T03:03:03.882827700Z"
    }
   },
   "outputs": [
    {
     "data": {
      "text/plain": "<Figure size 1400x1400 with 1 Axes>",
      "image/png": "[encoded data removed]"
     },
     "metadata": {},
     "output_type": "display_data"
    },
    {
     "data": {
      "text/plain": "<Axes: >"
     },
     "execution_count": 9,
     "metadata": {},
     "output_type": "execute_result"
    }
   ],
   "source": [
    "plt.figure(figsize=(14,14))\n",
    "src = rasterio.open(\"./2011-01-01_US-CRT.tif\")\n",
    "show(src)"
   ]
  },
  {
   "cell_type": "code",
   "execution_count": 10,
   "metadata": {
    "ExecuteTime": {
     "end_time": "2024-03-31T03:03:05.633620Z",
     "start_time": "2024-03-31T03:03:05.304465800Z"
    }
   },
   "outputs": [
    {
     "data": {
      "text/plain": "<Figure size 1400x1400 with 1 Axes>",
      "image/png": "[encoded data removed]"
     },
     "metadata": {},
     "output_type": "display_data"
    },
    {
     "data": {
      "text/plain": "<Axes: >"
     },
     "execution_count": 10,
     "metadata": {},
     "output_type": "execute_result"
    }
   ],
   "source": [
    "# for 10:00 AM\n",
    "plt.figure(figsize=(14,14))\n",
    "src = rasterio.open(\"./2011-01-01_US-CRT.tif\")\n",
    "show(src.read(4))"
   ]
  },
  {
   "cell_type": "code",
   "execution_count": 11,
   "metadata": {
    "ExecuteTime": {
     "end_time": "2024-03-31T03:03:07.089781900Z",
     "start_time": "2024-03-31T03:03:06.731466600Z"
    }
   },
   "outputs": [
    {
     "data": {
      "text/plain": "<matplotlib.image.AxesImage at 0x14d6dd64610>"
     },
     "execution_count": 11,
     "metadata": {},
     "output_type": "execute_result"
    },
    {
     "data": {
      "text/plain": "<Figure size 1400x1400 with 1 Axes>",
      "image/png": "[encoded data removed]"
     },
     "metadata": {},
     "output_type": "display_data"
    }
   ],
   "source": [
    "# Daily average\n",
    "arrs = []\n",
    "cnt = 0\n",
    "for i in range(1,15):\n",
    "    arr = src.read(i)\n",
    "    if (arr == 0).all():\n",
    "        continue\n",
    "    else:\n",
    "        cnt+=1\n",
    "        arrs.append(arr)\n",
    "avg_for_day = sum(arrs)/cnt\n",
    "\n",
    "plt.figure(figsize=(14,14))\n",
    "plt.imshow(avg_for_day)"
   ]
  }
 ],
 "metadata": {
  "kernelspec": {
   "display_name": "Python 3",
   "language": "python",
   "name": "python3"
  },
  "language_info": {
   "codemirror_mode": {
    "name": "ipython",
    "version": 3
   },
   "file_extension": ".py",
   "mimetype": "text/x-python",
   "name": "python",
   "nbconvert_exporter": "python",
   "pygments_lexer": "ipython3",
   "version": "3.8.0"
  }
 },
 "nbformat": 4,
 "nbformat_minor": 2
}
